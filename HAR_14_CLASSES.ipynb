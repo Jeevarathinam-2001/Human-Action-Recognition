{
  "nbformat": 4,
  "nbformat_minor": 0,
  "metadata": {
    "colab": {
      "name": "HAR_14_CLASSES",
      "provenance": [],
      "collapsed_sections": [
        "2UUwpdbDls12",
        "tegotCrYmuls",
        "kgDnZW7IV88H"
      ]
    },
    "kernelspec": {
      "name": "python3",
      "display_name": "Python 3"
    },
    "language_info": {
      "name": "python"
    },
    "accelerator": "GPU",
    "gpuClass": "standard"
  },
  "cells": [
    {
      "cell_type": "code",
      "execution_count": 1,
      "metadata": {
        "id": "zZSsi5o8kU9H"
      },
      "outputs": [],
      "source": [
        "import tensorflow as tf\n",
        "import numpy as np\n",
        "import pandas as pd\n",
        "import matplotlib.pyplot as plt\n",
        "import matplotlib.image as mping\n",
        "from tensorflow import keras\n",
        "from tensorflow.keras import layers"
      ]
    },
    {
      "cell_type": "markdown",
      "metadata": {
        "id": "2UUwpdbDls12"
      },
      "source": [
        "##GETTING OUR DATA READY"
      ]
    },
    {
      "cell_type": "code",
      "execution_count": 2,
      "metadata": {
        "colab": {
          "base_uri": "https://localhost:8080/"
        },
        "id": "2IuDli6Yk6xg",
        "outputId": "2a3b7ad7-78cc-4970-fac8-9089ecc960a6"
      },
      "outputs": [
        {
          "output_type": "stream",
          "name": "stdout",
          "text": [
            "INFO:tensorflow:Mixed precision compatibility check (mixed_float16): OK\n",
            "Your GPU will likely run quickly with dtype policy mixed_float16 as it has compute capability of at least 7.0. Your GPU: Tesla T4, compute capability 7.5\n"
          ]
        }
      ],
      "source": [
        "from tensorflow.keras import mixed_precision\n",
        "mixed_precision.set_global_policy(\"mixed_float16\")"
      ]
    },
    {
      "cell_type": "code",
      "execution_count": 3,
      "metadata": {
        "id": "UA7WW6rilHyn"
      },
      "outputs": [],
      "source": [
        "import zipfile\n",
        "zip_ref = zipfile.ZipFile(\"/content/drive/MyDrive/HAR_MODIFIED_14_CLASSES.zip\")\n",
        "zip_ref.extractall()\n",
        "zip_ref.close()"
      ]
    },
    {
      "cell_type": "code",
      "execution_count": 4,
      "metadata": {
        "colab": {
          "base_uri": "https://localhost:8080/"
        },
        "id": "95TXZHPrlca4",
        "outputId": "e3b9f5ff-04eb-408a-d950-bb45f98671fe"
      },
      "outputs": [
        {
          "output_type": "stream",
          "name": "stdout",
          "text": [
            "There are 14 directories and 0 images in '/content/train'.\n",
            "There are 0 directories and 680 images in '/content/train/running'.\n",
            "There are 0 directories and 680 images in '/content/train/listening_to_music'.\n",
            "There are 0 directories and 680 images in '/content/train/eating'.\n",
            "There are 0 directories and 680 images in '/content/train/drinking'.\n",
            "There are 0 directories and 680 images in '/content/train/fighting'.\n",
            "There are 0 directories and 680 images in '/content/train/clapping'.\n",
            "There are 0 directories and 680 images in '/content/train/sleeping'.\n",
            "There are 0 directories and 680 images in '/content/train/cycling'.\n",
            "There are 0 directories and 680 images in '/content/train/using_laptop'.\n",
            "There are 0 directories and 680 images in '/content/train/texting'.\n",
            "There are 0 directories and 680 images in '/content/train/calling'.\n",
            "There are 0 directories and 680 images in '/content/train/laughing'.\n",
            "There are 0 directories and 680 images in '/content/train/dancing'.\n",
            "There are 0 directories and 680 images in '/content/train/hugging'.\n"
          ]
        }
      ],
      "source": [
        "import os\n",
        "for dirpath, dirnames, filenames in os.walk(\"/content/train\"):\n",
        "  print(f\"There are {len(dirnames)} directories and {len(filenames)} images in '{dirpath}'.\")"
      ]
    },
    {
      "cell_type": "code",
      "execution_count": 5,
      "metadata": {
        "colab": {
          "base_uri": "https://localhost:8080/"
        },
        "id": "D3hbaAXgleM-",
        "outputId": "a3522dfc-8d55-4fd2-ddcd-90d8a76b717d"
      },
      "outputs": [
        {
          "output_type": "stream",
          "name": "stdout",
          "text": [
            "There are 14 directories and 0 images in '/content/test'.\n",
            "There are 0 directories and 84 images in '/content/test/running'.\n",
            "There are 0 directories and 84 images in '/content/test/listening_to_music'.\n",
            "There are 0 directories and 84 images in '/content/test/eating'.\n",
            "There are 0 directories and 84 images in '/content/test/drinking'.\n",
            "There are 0 directories and 84 images in '/content/test/fighting'.\n",
            "There are 0 directories and 84 images in '/content/test/clapping'.\n",
            "There are 0 directories and 84 images in '/content/test/sleeping'.\n",
            "There are 0 directories and 84 images in '/content/test/cycling'.\n",
            "There are 0 directories and 84 images in '/content/test/using_laptop'.\n",
            "There are 0 directories and 84 images in '/content/test/texting'.\n",
            "There are 0 directories and 84 images in '/content/test/calling'.\n",
            "There are 0 directories and 84 images in '/content/test/laughing'.\n",
            "There are 0 directories and 84 images in '/content/test/dancing'.\n",
            "There are 0 directories and 84 images in '/content/test/hugging'.\n"
          ]
        }
      ],
      "source": [
        "for dirpath, dirnames, filenames in os.walk(\"/content/test\"):\n",
        "  print(f\"There are {len(dirnames)} directories and {len(filenames)} images in '{dirpath}'.\")"
      ]
    },
    {
      "cell_type": "code",
      "execution_count": 6,
      "metadata": {
        "colab": {
          "base_uri": "https://localhost:8080/"
        },
        "id": "pNpe36cIlg_Y",
        "outputId": "e54ed183-4e8f-4be3-eed1-747e59e5647b"
      },
      "outputs": [
        {
          "output_type": "stream",
          "name": "stdout",
          "text": [
            "There are 14 directories and 0 images in '/content/val'.\n",
            "There are 0 directories and 75 images in '/content/val/running'.\n",
            "There are 0 directories and 75 images in '/content/val/listening_to_music'.\n",
            "There are 0 directories and 75 images in '/content/val/eating'.\n",
            "There are 0 directories and 75 images in '/content/val/drinking'.\n",
            "There are 0 directories and 75 images in '/content/val/fighting'.\n",
            "There are 0 directories and 75 images in '/content/val/clapping'.\n",
            "There are 0 directories and 75 images in '/content/val/sleeping'.\n",
            "There are 0 directories and 75 images in '/content/val/cycling'.\n",
            "There are 0 directories and 75 images in '/content/val/using_laptop'.\n",
            "There are 0 directories and 75 images in '/content/val/texting'.\n",
            "There are 0 directories and 75 images in '/content/val/calling'.\n",
            "There are 0 directories and 75 images in '/content/val/laughing'.\n",
            "There are 0 directories and 75 images in '/content/val/dancing'.\n",
            "There are 0 directories and 75 images in '/content/val/hugging'.\n"
          ]
        }
      ],
      "source": [
        "for dirpath, dirnames, filenames in os.walk(\"/content/val\"):\n",
        "  print(f\"There are {len(dirnames)} directories and {len(filenames)} images in '{dirpath}'.\")"
      ]
    },
    {
      "cell_type": "code",
      "execution_count": 7,
      "metadata": {
        "id": "TNKAySz_l1Bg"
      },
      "outputs": [],
      "source": [
        "train_dir = \"/content/train\"\n",
        "test_dir = \"/content/test\"\n",
        "val_dir = \"/content/val\""
      ]
    },
    {
      "cell_type": "code",
      "execution_count": 8,
      "metadata": {
        "colab": {
          "base_uri": "https://localhost:8080/"
        },
        "id": "qNe4sYrLmUyV",
        "outputId": "18784e6c-4d62-49c0-b82f-6f92ecade3ca"
      },
      "outputs": [
        {
          "output_type": "stream",
          "name": "stderr",
          "text": [
            "/usr/local/lib/python3.7/dist-packages/keras_preprocessing/image/image_data_generator.py:337: UserWarning: This ImageDataGenerator specifies `zca_whitening`, which overrides setting of `featurewise_center`.\n",
            "  warnings.warn('This ImageDataGenerator specifies '\n"
          ]
        },
        {
          "output_type": "stream",
          "name": "stdout",
          "text": [
            "Found 9520 images belonging to 14 classes.\n",
            "Found 1176 images belonging to 14 classes.\n",
            "Found 1050 images belonging to 14 classes.\n"
          ]
        }
      ],
      "source": [
        "from tensorflow.keras.preprocessing.image import ImageDataGenerator\n",
        "train_datagen = ImageDataGenerator(samplewise_center = True,zca_whitening = True)\n",
        "test_datagen = ImageDataGenerator(samplewise_center = True,zca_whitening = True)\n",
        "validation_datagen = ImageDataGenerator(samplewise_center = True,zca_whitening = True)\n",
        "\n",
        "train_data = train_datagen.flow_from_directory(train_dir,batch_size = 32,class_mode = \"categorical\",target_size = (224,224),seed=42,shuffle = True)\n",
        "test_data = test_datagen.flow_from_directory(test_dir,batch_size = 32,class_mode = \"categorical\",target_size = (224,224),seed=42,shuffle = False)\n",
        "validation_data  = validation_datagen.flow_from_directory(val_dir,batch_size = 32,class_mode = \"categorical\",target_size = (224,224),seed=42,shuffle = False)"
      ]
    },
    {
      "cell_type": "code",
      "execution_count": 9,
      "metadata": {
        "colab": {
          "base_uri": "https://localhost:8080/"
        },
        "id": "aMx_JzOflpBu",
        "outputId": "c3720023-2069-4379-d1ed-bc73979f10c9"
      },
      "outputs": [
        {
          "output_type": "stream",
          "name": "stdout",
          "text": [
            "Found 1176 files belonging to 14 classes.\n"
          ]
        }
      ],
      "source": [
        "from tensorflow.keras.preprocessing import image_dataset_from_directory\n",
        "\n",
        "test_data_true = image_dataset_from_directory(test_dir,label_mode = \"categorical\",batch_size = 32,image_size = (224,224),\n",
        "                                          shuffle = False,seed = 42)"
      ]
    },
    {
      "cell_type": "code",
      "execution_count": 10,
      "metadata": {
        "colab": {
          "base_uri": "https://localhost:8080/"
        },
        "id": "k1rezFWynFSt",
        "outputId": "34857a90-5589-46f4-cef9-7b46657a3cbf"
      },
      "outputs": [
        {
          "output_type": "stream",
          "name": "stdout",
          "text": [
            "<keras.preprocessing.image.DirectoryIterator object at 0x7fb65f1abd10>\n",
            "<keras.preprocessing.image.DirectoryIterator object at 0x7fb65198d4d0>\n",
            "<keras.preprocessing.image.DirectoryIterator object at 0x7fb65198d390>\n"
          ]
        }
      ],
      "source": [
        "print(train_data)\n",
        "print(test_data)\n",
        "print(validation_data)"
      ]
    },
    {
      "cell_type": "code",
      "execution_count": 11,
      "metadata": {
        "colab": {
          "base_uri": "https://localhost:8080/"
        },
        "id": "GbIJS0cbl_f2",
        "outputId": "bd038ce3-6aad-4aa4-e60c-cc949875117a"
      },
      "outputs": [
        {
          "output_type": "stream",
          "name": "stdout",
          "text": [
            "14\n",
            "['calling', 'clapping', 'cycling', 'dancing', 'drinking', 'eating', 'fighting', 'hugging', 'laughing', 'listening_to_music', 'running', 'sleeping', 'texting', 'using_laptop']\n"
          ]
        }
      ],
      "source": [
        "labels = test_data_true.class_names\n",
        "print(len(labels))\n",
        "print(labels)\n"
      ]
    },
    {
      "cell_type": "markdown",
      "metadata": {
        "id": "tegotCrYmuls"
      },
      "source": [
        "##RESNET152V2 FEATURE EXTRACTOR MODEL 14 CLASSES"
      ]
    },
    {
      "cell_type": "code",
      "execution_count": 12,
      "metadata": {
        "id": "g0RYapA4mmcb",
        "colab": {
          "base_uri": "https://localhost:8080/"
        },
        "outputId": "b0cc0c28-6c74-4c68-ed19-5e74ad9016a9"
      },
      "outputs": [
        {
          "output_type": "stream",
          "name": "stdout",
          "text": [
            "Downloading data from https://storage.googleapis.com/tensorflow/keras-applications/resnet/resnet152v2_weights_tf_dim_ordering_tf_kernels_notop.h5\n",
            "234553344/234545216 [==============================] - 1s 0us/step\n",
            "234561536/234545216 [==============================] - 1s 0us/step\n"
          ]
        }
      ],
      "source": [
        "base_model = tf.keras.applications.ResNet152V2(include_top = False)\n",
        "base_model.trainable = False"
      ]
    },
    {
      "cell_type": "code",
      "execution_count": 13,
      "metadata": {
        "id": "8wVQ_cNpm7A3"
      },
      "outputs": [],
      "source": [
        "data_aug = keras.Sequential([\n",
        "      layers.experimental.preprocessing.RandomHeight(0.2),\n",
        "      layers.experimental.preprocessing.RandomWidth(0.2),\n",
        "      layers.experimental.preprocessing.RandomRotation(0.2),\n",
        "      layers.experimental.preprocessing.Rescaling(1/255.)\n",
        "])"
      ]
    },
    {
      "cell_type": "code",
      "execution_count": 14,
      "metadata": {
        "id": "nzK6eULoh3F8"
      },
      "outputs": [],
      "source": [
        "inputs = layers.Input(shape = (224,224,3))\n",
        "x = data_aug(inputs)\n",
        "x = base_model(x)\n",
        "x = layers.GlobalAveragePooling2D()(x)\n",
        "x = layers.Dense(32,activation = \"relu\",kernel_initializer= tf.keras.initializers.HeNormal())(x)\n",
        "x = layers.Dense(14)(x)\n",
        "outputs = layers.Activation(\"softmax\",dtype = tf.float32)(x)\n",
        "\n",
        "model_res = keras.Model(inputs,outputs)"
      ]
    },
    {
      "cell_type": "code",
      "execution_count": 15,
      "metadata": {
        "colab": {
          "base_uri": "https://localhost:8080/"
        },
        "id": "tXN7pA_mh3Jz",
        "outputId": "0b2163f5-dfcd-4e31-c1f9-cb60dfcc46c1"
      },
      "outputs": [
        {
          "output_type": "stream",
          "name": "stdout",
          "text": [
            "Model: \"model\"\n",
            "_________________________________________________________________\n",
            " Layer (type)                Output Shape              Param #   \n",
            "=================================================================\n",
            " input_2 (InputLayer)        [(None, 224, 224, 3)]     0         \n",
            "                                                                 \n",
            " sequential (Sequential)     (None, 224, 224, 3)       0         \n",
            "                                                                 \n",
            " resnet152v2 (Functional)    (None, None, None, 2048)  58331648  \n",
            "                                                                 \n",
            " global_average_pooling2d (G  (None, 2048)             0         \n",
            " lobalAveragePooling2D)                                          \n",
            "                                                                 \n",
            " dense (Dense)               (None, 32)                65568     \n",
            "                                                                 \n",
            " dense_1 (Dense)             (None, 14)                462       \n",
            "                                                                 \n",
            " activation (Activation)     (None, 14)                0         \n",
            "                                                                 \n",
            "=================================================================\n",
            "Total params: 58,397,678\n",
            "Trainable params: 66,030\n",
            "Non-trainable params: 58,331,648\n",
            "_________________________________________________________________\n"
          ]
        }
      ],
      "source": [
        "model_res.summary()"
      ]
    },
    {
      "cell_type": "code",
      "execution_count": 16,
      "metadata": {
        "colab": {
          "base_uri": "https://localhost:8080/"
        },
        "id": "m4Jy1EfgijYa",
        "outputId": "2f11b3ca-71ab-4f29-ca09-287f10f229c1"
      },
      "outputs": [
        {
          "output_type": "stream",
          "name": "stdout",
          "text": [
            "0 input_2 True\n",
            "1 sequential True\n",
            "2 resnet152v2 False\n",
            "3 global_average_pooling2d True\n",
            "4 dense True\n",
            "5 dense_1 True\n",
            "6 activation True\n"
          ]
        }
      ],
      "source": [
        "for layer_num,layer in enumerate(model_res.layers):\n",
        "  print(layer_num,layer.name,layer.trainable)"
      ]
    },
    {
      "cell_type": "code",
      "execution_count": 17,
      "metadata": {
        "id": "2pLWrDkritba"
      },
      "outputs": [],
      "source": [
        "model_res.compile(loss = tf.keras.losses.CategoricalCrossentropy(),\n",
        "                optimizer = tf.keras.optimizers.Adam(),\n",
        "                metrics = [\"accuracy\"])"
      ]
    },
    {
      "cell_type": "code",
      "execution_count": 18,
      "metadata": {
        "id": "Y4ncz_ewitri"
      },
      "outputs": [],
      "source": [
        "checkpoint_path = \"HAR_Resnet/Checkpoint.ckpt\"\n",
        "checkpoints = tf.keras.callbacks.ModelCheckpoint(checkpoint_path,monitor = \"val_accuracy\",save_best_only=True,\n",
        "                                                 save_weights_only = True, verbose = 1)"
      ]
    },
    {
      "cell_type": "code",
      "execution_count": 19,
      "metadata": {
        "colab": {
          "base_uri": "https://localhost:8080/"
        },
        "id": "zvdtmUbxjSqH",
        "outputId": "de0a84c4-015e-4a2e-da55-2c979779913d"
      },
      "outputs": [
        {
          "output_type": "stream",
          "name": "stdout",
          "text": [
            "--2022-07-28 13:53:56--  https://raw.githubusercontent.com/mrdbourke/tensorflow-deep-learning/main/extras/helper_functions.py\n",
            "Resolving raw.githubusercontent.com (raw.githubusercontent.com)... 185.199.108.133, 185.199.109.133, 185.199.110.133, ...\n",
            "Connecting to raw.githubusercontent.com (raw.githubusercontent.com)|185.199.108.133|:443... connected.\n",
            "HTTP request sent, awaiting response... 200 OK\n",
            "Length: 10246 (10K) [text/plain]\n",
            "Saving to: ‘helper_functions.py’\n",
            "\n",
            "\rhelper_functions.py   0%[                    ]       0  --.-KB/s               \rhelper_functions.py 100%[===================>]  10.01K  --.-KB/s    in 0s      \n",
            "\n",
            "2022-07-28 13:53:56 (70.3 MB/s) - ‘helper_functions.py’ saved [10246/10246]\n",
            "\n"
          ]
        }
      ],
      "source": [
        "!wget https://raw.githubusercontent.com/mrdbourke/tensorflow-deep-learning/main/extras/helper_functions.py\n",
        "from helper_functions import plot_loss_curves,create_tensorboard_callback"
      ]
    },
    {
      "cell_type": "code",
      "execution_count": 20,
      "metadata": {
        "id": "co0Uz34AjXJm"
      },
      "outputs": [],
      "source": [
        "early_stop = tf.keras.callbacks.EarlyStopping(monitor = \"val_accuracy\",patience = 15,verbose = 1,\n",
        "                                              min_delta = 0.00001)\n",
        "\n",
        "reduce_lr = tf.keras.callbacks.ReduceLROnPlateau(monitor = \"val_accuracy\",patience = 10,verbose = 1,\n",
        "                                                 min_lr = 1e-8)\n",
        "\n",
        "lr_scheduler = tf.keras.callbacks.LearningRateScheduler(lambda epoch: 1e-5 * 10**(epoch/2))"
      ]
    },
    {
      "cell_type": "code",
      "execution_count": 21,
      "metadata": {
        "colab": {
          "base_uri": "https://localhost:8080/"
        },
        "id": "aWUAe2EUjAbF",
        "outputId": "cb6719d5-854c-4be2-e36a-3c76ef13e2d5"
      },
      "outputs": [
        {
          "output_type": "stream",
          "name": "stdout",
          "text": [
            "Saving TensorBoard log files to: HAR_TRANSFER_LEARNING_14/RESNET/20220728-135413\n"
          ]
        },
        {
          "output_type": "stream",
          "name": "stderr",
          "text": [
            "/usr/local/lib/python3.7/dist-packages/keras_preprocessing/image/image_data_generator.py:720: UserWarning: This ImageDataGenerator specifies `featurewise_center`, but it hasn't been fit on any training data. Fit it first by calling `.fit(numpy_data)`.\n",
            "  warnings.warn('This ImageDataGenerator specifies '\n",
            "/usr/local/lib/python3.7/dist-packages/keras_preprocessing/image/image_data_generator.py:739: UserWarning: This ImageDataGenerator specifies `zca_whitening`, but it hasn't been fit on any training data. Fit it first by calling `.fit(numpy_data)`.\n",
            "  warnings.warn('This ImageDataGenerator specifies '\n"
          ]
        },
        {
          "output_type": "stream",
          "name": "stdout",
          "text": [
            "Epoch 1/20\n",
            "298/298 [==============================] - ETA: 0s - loss: 1.7005 - accuracy: 0.4393\n",
            "Epoch 1: val_accuracy improved from -inf to 0.60952, saving model to HAR_Resnet/Checkpoint.ckpt\n",
            "298/298 [==============================] - 72s 173ms/step - loss: 1.7005 - accuracy: 0.4393 - val_loss: 1.2419 - val_accuracy: 0.6095 - lr: 0.0010\n",
            "Epoch 2/20\n",
            "298/298 [==============================] - ETA: 0s - loss: 1.3137 - accuracy: 0.5735\n",
            "Epoch 2: val_accuracy improved from 0.60952 to 0.63905, saving model to HAR_Resnet/Checkpoint.ckpt\n",
            "298/298 [==============================] - 46s 153ms/step - loss: 1.3137 - accuracy: 0.5735 - val_loss: 1.1558 - val_accuracy: 0.6390 - lr: 0.0010\n",
            "Epoch 3/20\n",
            "298/298 [==============================] - ETA: 0s - loss: 1.2441 - accuracy: 0.5924\n",
            "Epoch 3: val_accuracy improved from 0.63905 to 0.65619, saving model to HAR_Resnet/Checkpoint.ckpt\n",
            "298/298 [==============================] - 46s 153ms/step - loss: 1.2441 - accuracy: 0.5924 - val_loss: 1.0860 - val_accuracy: 0.6562 - lr: 0.0010\n",
            "Epoch 4/20\n",
            "298/298 [==============================] - ETA: 0s - loss: 1.1866 - accuracy: 0.6131\n",
            "Epoch 4: val_accuracy improved from 0.65619 to 0.66190, saving model to HAR_Resnet/Checkpoint.ckpt\n",
            "298/298 [==============================] - 44s 147ms/step - loss: 1.1866 - accuracy: 0.6131 - val_loss: 1.0864 - val_accuracy: 0.6619 - lr: 0.0010\n",
            "Epoch 5/20\n",
            "298/298 [==============================] - ETA: 0s - loss: 1.1411 - accuracy: 0.6274\n",
            "Epoch 5: val_accuracy improved from 0.66190 to 0.66476, saving model to HAR_Resnet/Checkpoint.ckpt\n",
            "298/298 [==============================] - 42s 142ms/step - loss: 1.1411 - accuracy: 0.6274 - val_loss: 1.0496 - val_accuracy: 0.6648 - lr: 0.0010\n",
            "Epoch 6/20\n",
            "298/298 [==============================] - ETA: 0s - loss: 1.1143 - accuracy: 0.6352\n",
            "Epoch 6: val_accuracy improved from 0.66476 to 0.68000, saving model to HAR_Resnet/Checkpoint.ckpt\n",
            "298/298 [==============================] - 43s 143ms/step - loss: 1.1143 - accuracy: 0.6352 - val_loss: 1.0675 - val_accuracy: 0.6800 - lr: 0.0010\n",
            "Epoch 7/20\n",
            "298/298 [==============================] - ETA: 0s - loss: 1.0797 - accuracy: 0.6425\n",
            "Epoch 7: val_accuracy improved from 0.68000 to 0.68095, saving model to HAR_Resnet/Checkpoint.ckpt\n",
            "298/298 [==============================] - 43s 143ms/step - loss: 1.0797 - accuracy: 0.6425 - val_loss: 1.0401 - val_accuracy: 0.6810 - lr: 0.0010\n",
            "Epoch 8/20\n",
            "298/298 [==============================] - ETA: 0s - loss: 1.0503 - accuracy: 0.6565\n",
            "Epoch 8: val_accuracy improved from 0.68095 to 0.69905, saving model to HAR_Resnet/Checkpoint.ckpt\n",
            "298/298 [==============================] - 42s 141ms/step - loss: 1.0503 - accuracy: 0.6565 - val_loss: 1.0225 - val_accuracy: 0.6990 - lr: 0.0010\n",
            "Epoch 9/20\n",
            "298/298 [==============================] - ETA: 0s - loss: 1.0484 - accuracy: 0.6512\n",
            "Epoch 9: val_accuracy did not improve from 0.69905\n",
            "298/298 [==============================] - 41s 139ms/step - loss: 1.0484 - accuracy: 0.6512 - val_loss: 0.9799 - val_accuracy: 0.6895 - lr: 0.0010\n",
            "Epoch 10/20\n",
            "298/298 [==============================] - ETA: 0s - loss: 1.0278 - accuracy: 0.6600\n",
            "Epoch 10: val_accuracy did not improve from 0.69905\n",
            "298/298 [==============================] - 41s 137ms/step - loss: 1.0278 - accuracy: 0.6600 - val_loss: 1.0377 - val_accuracy: 0.6819 - lr: 0.0010\n",
            "Epoch 11/20\n",
            "298/298 [==============================] - ETA: 0s - loss: 1.0025 - accuracy: 0.6638\n",
            "Epoch 11: val_accuracy improved from 0.69905 to 0.70095, saving model to HAR_Resnet/Checkpoint.ckpt\n",
            "298/298 [==============================] - 42s 141ms/step - loss: 1.0025 - accuracy: 0.6638 - val_loss: 0.9877 - val_accuracy: 0.7010 - lr: 0.0010\n",
            "Epoch 12/20\n",
            "298/298 [==============================] - ETA: 0s - loss: 1.0100 - accuracy: 0.6685\n",
            "Epoch 12: val_accuracy did not improve from 0.70095\n",
            "298/298 [==============================] - 41s 137ms/step - loss: 1.0100 - accuracy: 0.6685 - val_loss: 0.9846 - val_accuracy: 0.6952 - lr: 0.0010\n",
            "Epoch 13/20\n",
            "298/298 [==============================] - ETA: 0s - loss: 0.9777 - accuracy: 0.6801\n",
            "Epoch 13: val_accuracy did not improve from 0.70095\n",
            "298/298 [==============================] - 40s 136ms/step - loss: 0.9777 - accuracy: 0.6801 - val_loss: 0.9945 - val_accuracy: 0.6867 - lr: 0.0010\n",
            "Epoch 14/20\n",
            "298/298 [==============================] - ETA: 0s - loss: 0.9633 - accuracy: 0.6775\n",
            "Epoch 14: val_accuracy did not improve from 0.70095\n",
            "298/298 [==============================] - 40s 135ms/step - loss: 0.9633 - accuracy: 0.6775 - val_loss: 1.0307 - val_accuracy: 0.6905 - lr: 0.0010\n",
            "Epoch 15/20\n",
            "298/298 [==============================] - ETA: 0s - loss: 0.9623 - accuracy: 0.6762\n",
            "Epoch 15: val_accuracy did not improve from 0.70095\n",
            "298/298 [==============================] - 40s 134ms/step - loss: 0.9623 - accuracy: 0.6762 - val_loss: 1.0227 - val_accuracy: 0.6895 - lr: 0.0010\n",
            "Epoch 16/20\n",
            "298/298 [==============================] - ETA: 0s - loss: 0.9518 - accuracy: 0.6875\n",
            "Epoch 16: val_accuracy did not improve from 0.70095\n",
            "298/298 [==============================] - 40s 133ms/step - loss: 0.9518 - accuracy: 0.6875 - val_loss: 0.9826 - val_accuracy: 0.6905 - lr: 0.0010\n",
            "Epoch 17/20\n",
            "298/298 [==============================] - ETA: 0s - loss: 0.9429 - accuracy: 0.6862\n",
            "Epoch 17: val_accuracy improved from 0.70095 to 0.70190, saving model to HAR_Resnet/Checkpoint.ckpt\n",
            "298/298 [==============================] - 41s 137ms/step - loss: 0.9429 - accuracy: 0.6862 - val_loss: 0.9488 - val_accuracy: 0.7019 - lr: 0.0010\n",
            "Epoch 18/20\n",
            "298/298 [==============================] - ETA: 0s - loss: 0.9309 - accuracy: 0.6903\n",
            "Epoch 18: val_accuracy improved from 0.70190 to 0.71048, saving model to HAR_Resnet/Checkpoint.ckpt\n",
            "298/298 [==============================] - 42s 139ms/step - loss: 0.9309 - accuracy: 0.6903 - val_loss: 0.9163 - val_accuracy: 0.7105 - lr: 0.0010\n",
            "Epoch 19/20\n",
            "298/298 [==============================] - ETA: 0s - loss: 0.9107 - accuracy: 0.6958\n",
            "Epoch 19: val_accuracy improved from 0.71048 to 0.71429, saving model to HAR_Resnet/Checkpoint.ckpt\n",
            "298/298 [==============================] - 41s 137ms/step - loss: 0.9107 - accuracy: 0.6958 - val_loss: 0.9294 - val_accuracy: 0.7143 - lr: 0.0010\n",
            "Epoch 20/20\n",
            "298/298 [==============================] - ETA: 0s - loss: 0.9300 - accuracy: 0.6897\n",
            "Epoch 20: val_accuracy did not improve from 0.71429\n",
            "298/298 [==============================] - 39s 132ms/step - loss: 0.9300 - accuracy: 0.6897 - val_loss: 0.9793 - val_accuracy: 0.6905 - lr: 0.0010\n"
          ]
        }
      ],
      "source": [
        "history_1 =  model_res.fit(train_data,epochs  = 20,steps_per_epoch = len(train_data),\n",
        "                        validation_data = validation_data,validation_steps= len(validation_data),\n",
        "                         callbacks = [create_tensorboard_callback(dir_name = \"HAR_TRANSFER_LEARNING_14\",experiment_name = \"RESNET\"),early_stop,reduce_lr,\n",
        "                                      checkpoints])"
      ]
    },
    {
      "cell_type": "code",
      "execution_count": 22,
      "metadata": {
        "colab": {
          "base_uri": "https://localhost:8080/"
        },
        "id": "ck3oIVTajAfW",
        "outputId": "b3861e13-9f35-4111-cf75-7062986472e7"
      },
      "outputs": [
        {
          "output_type": "stream",
          "name": "stderr",
          "text": [
            "/usr/local/lib/python3.7/dist-packages/keras_preprocessing/image/image_data_generator.py:720: UserWarning: This ImageDataGenerator specifies `featurewise_center`, but it hasn't been fit on any training data. Fit it first by calling `.fit(numpy_data)`.\n",
            "  warnings.warn('This ImageDataGenerator specifies '\n",
            "/usr/local/lib/python3.7/dist-packages/keras_preprocessing/image/image_data_generator.py:739: UserWarning: This ImageDataGenerator specifies `zca_whitening`, but it hasn't been fit on any training data. Fit it first by calling `.fit(numpy_data)`.\n",
            "  warnings.warn('This ImageDataGenerator specifies '\n"
          ]
        },
        {
          "output_type": "stream",
          "name": "stdout",
          "text": [
            "33/33 [==============================] - 3s 100ms/step - loss: 0.9793 - accuracy: 0.6905\n",
            "Validation Accuracy =  [0.9793453812599182, 0.6904761791229248]\n",
            "37/37 [==============================] - 4s 102ms/step - loss: 0.8387 - accuracy: 0.7364\n",
            "Testing Accuracy is =  [0.838670551776886, 0.7363945841789246]\n"
          ]
        }
      ],
      "source": [
        "print(\"Validation Accuracy = \",model_res.evaluate(validation_data))\n",
        "print(\"Testing Accuracy is = \",model_res.evaluate(test_data))"
      ]
    },
    {
      "cell_type": "code",
      "execution_count": 23,
      "metadata": {
        "colab": {
          "base_uri": "https://localhost:8080/",
          "height": 573
        },
        "id": "coQy4VtBjAke",
        "outputId": "6709032b-bc15-462a-ca45-be69ea482b72"
      },
      "outputs": [
        {
          "output_type": "display_data",
          "data": {
            "text/plain": [
              "<Figure size 432x288 with 1 Axes>"
            ],
            "image/png": "[encoded data removed]"
          },
          "metadata": {
            "needs_background": "light"
          }
        },
        {
          "output_type": "display_data",
          "data": {
            "text/plain": [
              "<Figure size 432x288 with 1 Axes>"
            ],
            "image/png": "[encoded data removed]"
          },
          "metadata": {
            "needs_background": "light"
          }
        }
      ],
      "source": [
        "plot_loss_curves(history_1)"
      ]
    },
    {
      "cell_type": "code",
      "execution_count": 24,
      "metadata": {
        "colab": {
          "base_uri": "https://localhost:8080/"
        },
        "id": "fxr15ur9vb2z",
        "outputId": "1658286b-2a5c-4f9b-b247-a0ae34607070"
      },
      "outputs": [
        {
          "output_type": "stream",
          "name": "stdout",
          "text": [
            "0 input_1\n",
            "1 conv1_pad\n",
            "2 conv1_conv\n",
            "3 pool1_pad\n",
            "4 pool1_pool\n",
            "5 conv2_block1_preact_bn\n",
            "6 conv2_block1_preact_relu\n",
            "7 conv2_block1_1_conv\n",
            "8 conv2_block1_1_bn\n",
            "9 conv2_block1_1_relu\n",
            "10 conv2_block1_2_pad\n",
            "11 conv2_block1_2_conv\n",
            "12 conv2_block1_2_bn\n",
            "13 conv2_block1_2_relu\n",
            "14 conv2_block1_0_conv\n",
            "15 conv2_block1_3_conv\n",
            "16 conv2_block1_out\n",
            "17 conv2_block2_preact_bn\n",
            "18 conv2_block2_preact_relu\n",
            "19 conv2_block2_1_conv\n",
            "20 conv2_block2_1_bn\n",
            "21 conv2_block2_1_relu\n",
            "22 conv2_block2_2_pad\n",
            "23 conv2_block2_2_conv\n",
            "24 conv2_block2_2_bn\n",
            "25 conv2_block2_2_relu\n",
            "26 conv2_block2_3_conv\n",
            "27 conv2_block2_out\n",
            "28 conv2_block3_preact_bn\n",
            "29 conv2_block3_preact_relu\n",
            "30 conv2_block3_1_conv\n",
            "31 conv2_block3_1_bn\n",
            "32 conv2_block3_1_relu\n",
            "33 conv2_block3_2_pad\n",
            "34 conv2_block3_2_conv\n",
            "35 conv2_block3_2_bn\n",
            "36 conv2_block3_2_relu\n",
            "37 max_pooling2d\n",
            "38 conv2_block3_3_conv\n",
            "39 conv2_block3_out\n",
            "40 conv3_block1_preact_bn\n",
            "41 conv3_block1_preact_relu\n",
            "42 conv3_block1_1_conv\n",
            "43 conv3_block1_1_bn\n",
            "44 conv3_block1_1_relu\n",
            "45 conv3_block1_2_pad\n",
            "46 conv3_block1_2_conv\n",
            "47 conv3_block1_2_bn\n",
            "48 conv3_block1_2_relu\n",
            "49 conv3_block1_0_conv\n",
            "50 conv3_block1_3_conv\n",
            "51 conv3_block1_out\n",
            "52 conv3_block2_preact_bn\n",
            "53 conv3_block2_preact_relu\n",
            "54 conv3_block2_1_conv\n",
            "55 conv3_block2_1_bn\n",
            "56 conv3_block2_1_relu\n",
            "57 conv3_block2_2_pad\n",
            "58 conv3_block2_2_conv\n",
            "59 conv3_block2_2_bn\n",
            "60 conv3_block2_2_relu\n",
            "61 conv3_block2_3_conv\n",
            "62 conv3_block2_out\n",
            "63 conv3_block3_preact_bn\n",
            "64 conv3_block3_preact_relu\n",
            "65 conv3_block3_1_conv\n",
            "66 conv3_block3_1_bn\n",
            "67 conv3_block3_1_relu\n",
            "68 conv3_block3_2_pad\n",
            "69 conv3_block3_2_conv\n",
            "70 conv3_block3_2_bn\n",
            "71 conv3_block3_2_relu\n",
            "72 conv3_block3_3_conv\n",
            "73 conv3_block3_out\n",
            "74 conv3_block4_preact_bn\n",
            "75 conv3_block4_preact_relu\n",
            "76 conv3_block4_1_conv\n",
            "77 conv3_block4_1_bn\n",
            "78 conv3_block4_1_relu\n",
            "79 conv3_block4_2_pad\n",
            "80 conv3_block4_2_conv\n",
            "81 conv3_block4_2_bn\n",
            "82 conv3_block4_2_relu\n",
            "83 conv3_block4_3_conv\n",
            "84 conv3_block4_out\n",
            "85 conv3_block5_preact_bn\n",
            "86 conv3_block5_preact_relu\n",
            "87 conv3_block5_1_conv\n",
            "88 conv3_block5_1_bn\n",
            "89 conv3_block5_1_relu\n",
            "90 conv3_block5_2_pad\n",
            "91 conv3_block5_2_conv\n",
            "92 conv3_block5_2_bn\n",
            "93 conv3_block5_2_relu\n",
            "94 conv3_block5_3_conv\n",
            "95 conv3_block5_out\n",
            "96 conv3_block6_preact_bn\n",
            "97 conv3_block6_preact_relu\n",
            "98 conv3_block6_1_conv\n",
            "99 conv3_block6_1_bn\n",
            "100 conv3_block6_1_relu\n",
            "101 conv3_block6_2_pad\n",
            "102 conv3_block6_2_conv\n",
            "103 conv3_block6_2_bn\n",
            "104 conv3_block6_2_relu\n",
            "105 conv3_block6_3_conv\n",
            "106 conv3_block6_out\n",
            "107 conv3_block7_preact_bn\n",
            "108 conv3_block7_preact_relu\n",
            "109 conv3_block7_1_conv\n",
            "110 conv3_block7_1_bn\n",
            "111 conv3_block7_1_relu\n",
            "112 conv3_block7_2_pad\n",
            "113 conv3_block7_2_conv\n",
            "114 conv3_block7_2_bn\n",
            "115 conv3_block7_2_relu\n",
            "116 conv3_block7_3_conv\n",
            "117 conv3_block7_out\n",
            "118 conv3_block8_preact_bn\n",
            "119 conv3_block8_preact_relu\n",
            "120 conv3_block8_1_conv\n",
            "121 conv3_block8_1_bn\n",
            "122 conv3_block8_1_relu\n",
            "123 conv3_block8_2_pad\n",
            "124 conv3_block8_2_conv\n",
            "125 conv3_block8_2_bn\n",
            "126 conv3_block8_2_relu\n",
            "127 max_pooling2d_1\n",
            "128 conv3_block8_3_conv\n",
            "129 conv3_block8_out\n",
            "130 conv4_block1_preact_bn\n",
            "131 conv4_block1_preact_relu\n",
            "132 conv4_block1_1_conv\n",
            "133 conv4_block1_1_bn\n",
            "134 conv4_block1_1_relu\n",
            "135 conv4_block1_2_pad\n",
            "136 conv4_block1_2_conv\n",
            "137 conv4_block1_2_bn\n",
            "138 conv4_block1_2_relu\n",
            "139 conv4_block1_0_conv\n",
            "140 conv4_block1_3_conv\n",
            "141 conv4_block1_out\n",
            "142 conv4_block2_preact_bn\n",
            "143 conv4_block2_preact_relu\n",
            "144 conv4_block2_1_conv\n",
            "145 conv4_block2_1_bn\n",
            "146 conv4_block2_1_relu\n",
            "147 conv4_block2_2_pad\n",
            "148 conv4_block2_2_conv\n",
            "149 conv4_block2_2_bn\n",
            "150 conv4_block2_2_relu\n",
            "151 conv4_block2_3_conv\n",
            "152 conv4_block2_out\n",
            "153 conv4_block3_preact_bn\n",
            "154 conv4_block3_preact_relu\n",
            "155 conv4_block3_1_conv\n",
            "156 conv4_block3_1_bn\n",
            "157 conv4_block3_1_relu\n",
            "158 conv4_block3_2_pad\n",
            "159 conv4_block3_2_conv\n",
            "160 conv4_block3_2_bn\n",
            "161 conv4_block3_2_relu\n",
            "162 conv4_block3_3_conv\n",
            "163 conv4_block3_out\n",
            "164 conv4_block4_preact_bn\n",
            "165 conv4_block4_preact_relu\n",
            "166 conv4_block4_1_conv\n",
            "167 conv4_block4_1_bn\n",
            "168 conv4_block4_1_relu\n",
            "169 conv4_block4_2_pad\n",
            "170 conv4_block4_2_conv\n",
            "171 conv4_block4_2_bn\n",
            "172 conv4_block4_2_relu\n",
            "173 conv4_block4_3_conv\n",
            "174 conv4_block4_out\n",
            "175 conv4_block5_preact_bn\n",
            "176 conv4_block5_preact_relu\n",
            "177 conv4_block5_1_conv\n",
            "178 conv4_block5_1_bn\n",
            "179 conv4_block5_1_relu\n",
            "180 conv4_block5_2_pad\n",
            "181 conv4_block5_2_conv\n",
            "182 conv4_block5_2_bn\n",
            "183 conv4_block5_2_relu\n",
            "184 conv4_block5_3_conv\n",
            "185 conv4_block5_out\n",
            "186 conv4_block6_preact_bn\n",
            "187 conv4_block6_preact_relu\n",
            "188 conv4_block6_1_conv\n",
            "189 conv4_block6_1_bn\n",
            "190 conv4_block6_1_relu\n",
            "191 conv4_block6_2_pad\n",
            "192 conv4_block6_2_conv\n",
            "193 conv4_block6_2_bn\n",
            "194 conv4_block6_2_relu\n",
            "195 conv4_block6_3_conv\n",
            "196 conv4_block6_out\n",
            "197 conv4_block7_preact_bn\n",
            "198 conv4_block7_preact_relu\n",
            "199 conv4_block7_1_conv\n",
            "200 conv4_block7_1_bn\n",
            "201 conv4_block7_1_relu\n",
            "202 conv4_block7_2_pad\n",
            "203 conv4_block7_2_conv\n",
            "204 conv4_block7_2_bn\n",
            "205 conv4_block7_2_relu\n",
            "206 conv4_block7_3_conv\n",
            "207 conv4_block7_out\n",
            "208 conv4_block8_preact_bn\n",
            "209 conv4_block8_preact_relu\n",
            "210 conv4_block8_1_conv\n",
            "211 conv4_block8_1_bn\n",
            "212 conv4_block8_1_relu\n",
            "213 conv4_block8_2_pad\n",
            "214 conv4_block8_2_conv\n",
            "215 conv4_block8_2_bn\n",
            "216 conv4_block8_2_relu\n",
            "217 conv4_block8_3_conv\n",
            "218 conv4_block8_out\n",
            "219 conv4_block9_preact_bn\n",
            "220 conv4_block9_preact_relu\n",
            "221 conv4_block9_1_conv\n",
            "222 conv4_block9_1_bn\n",
            "223 conv4_block9_1_relu\n",
            "224 conv4_block9_2_pad\n",
            "225 conv4_block9_2_conv\n",
            "226 conv4_block9_2_bn\n",
            "227 conv4_block9_2_relu\n",
            "228 conv4_block9_3_conv\n",
            "229 conv4_block9_out\n",
            "230 conv4_block10_preact_bn\n",
            "231 conv4_block10_preact_relu\n",
            "232 conv4_block10_1_conv\n",
            "233 conv4_block10_1_bn\n",
            "234 conv4_block10_1_relu\n",
            "235 conv4_block10_2_pad\n",
            "236 conv4_block10_2_conv\n",
            "237 conv4_block10_2_bn\n",
            "238 conv4_block10_2_relu\n",
            "239 conv4_block10_3_conv\n",
            "240 conv4_block10_out\n",
            "241 conv4_block11_preact_bn\n",
            "242 conv4_block11_preact_relu\n",
            "243 conv4_block11_1_conv\n",
            "244 conv4_block11_1_bn\n",
            "245 conv4_block11_1_relu\n",
            "246 conv4_block11_2_pad\n",
            "247 conv4_block11_2_conv\n",
            "248 conv4_block11_2_bn\n",
            "249 conv4_block11_2_relu\n",
            "250 conv4_block11_3_conv\n",
            "251 conv4_block11_out\n",
            "252 conv4_block12_preact_bn\n",
            "253 conv4_block12_preact_relu\n",
            "254 conv4_block12_1_conv\n",
            "255 conv4_block12_1_bn\n",
            "256 conv4_block12_1_relu\n",
            "257 conv4_block12_2_pad\n",
            "258 conv4_block12_2_conv\n",
            "259 conv4_block12_2_bn\n",
            "260 conv4_block12_2_relu\n",
            "261 conv4_block12_3_conv\n",
            "262 conv4_block12_out\n",
            "263 conv4_block13_preact_bn\n",
            "264 conv4_block13_preact_relu\n",
            "265 conv4_block13_1_conv\n",
            "266 conv4_block13_1_bn\n",
            "267 conv4_block13_1_relu\n",
            "268 conv4_block13_2_pad\n",
            "269 conv4_block13_2_conv\n",
            "270 conv4_block13_2_bn\n",
            "271 conv4_block13_2_relu\n",
            "272 conv4_block13_3_conv\n",
            "273 conv4_block13_out\n",
            "274 conv4_block14_preact_bn\n",
            "275 conv4_block14_preact_relu\n",
            "276 conv4_block14_1_conv\n",
            "277 conv4_block14_1_bn\n",
            "278 conv4_block14_1_relu\n",
            "279 conv4_block14_2_pad\n",
            "280 conv4_block14_2_conv\n",
            "281 conv4_block14_2_bn\n",
            "282 conv4_block14_2_relu\n",
            "283 conv4_block14_3_conv\n",
            "284 conv4_block14_out\n",
            "285 conv4_block15_preact_bn\n",
            "286 conv4_block15_preact_relu\n",
            "287 conv4_block15_1_conv\n",
            "288 conv4_block15_1_bn\n",
            "289 conv4_block15_1_relu\n",
            "290 conv4_block15_2_pad\n",
            "291 conv4_block15_2_conv\n",
            "292 conv4_block15_2_bn\n",
            "293 conv4_block15_2_relu\n",
            "294 conv4_block15_3_conv\n",
            "295 conv4_block15_out\n",
            "296 conv4_block16_preact_bn\n",
            "297 conv4_block16_preact_relu\n",
            "298 conv4_block16_1_conv\n",
            "299 conv4_block16_1_bn\n",
            "300 conv4_block16_1_relu\n",
            "301 conv4_block16_2_pad\n",
            "302 conv4_block16_2_conv\n",
            "303 conv4_block16_2_bn\n",
            "304 conv4_block16_2_relu\n",
            "305 conv4_block16_3_conv\n",
            "306 conv4_block16_out\n",
            "307 conv4_block17_preact_bn\n",
            "308 conv4_block17_preact_relu\n",
            "309 conv4_block17_1_conv\n",
            "310 conv4_block17_1_bn\n",
            "311 conv4_block17_1_relu\n",
            "312 conv4_block17_2_pad\n",
            "313 conv4_block17_2_conv\n",
            "314 conv4_block17_2_bn\n",
            "315 conv4_block17_2_relu\n",
            "316 conv4_block17_3_conv\n",
            "317 conv4_block17_out\n",
            "318 conv4_block18_preact_bn\n",
            "319 conv4_block18_preact_relu\n",
            "320 conv4_block18_1_conv\n",
            "321 conv4_block18_1_bn\n",
            "322 conv4_block18_1_relu\n",
            "323 conv4_block18_2_pad\n",
            "324 conv4_block18_2_conv\n",
            "325 conv4_block18_2_bn\n",
            "326 conv4_block18_2_relu\n",
            "327 conv4_block18_3_conv\n",
            "328 conv4_block18_out\n",
            "329 conv4_block19_preact_bn\n",
            "330 conv4_block19_preact_relu\n",
            "331 conv4_block19_1_conv\n",
            "332 conv4_block19_1_bn\n",
            "333 conv4_block19_1_relu\n",
            "334 conv4_block19_2_pad\n",
            "335 conv4_block19_2_conv\n",
            "336 conv4_block19_2_bn\n",
            "337 conv4_block19_2_relu\n",
            "338 conv4_block19_3_conv\n",
            "339 conv4_block19_out\n",
            "340 conv4_block20_preact_bn\n",
            "341 conv4_block20_preact_relu\n",
            "342 conv4_block20_1_conv\n",
            "343 conv4_block20_1_bn\n",
            "344 conv4_block20_1_relu\n",
            "345 conv4_block20_2_pad\n",
            "346 conv4_block20_2_conv\n",
            "347 conv4_block20_2_bn\n",
            "348 conv4_block20_2_relu\n",
            "349 conv4_block20_3_conv\n",
            "350 conv4_block20_out\n",
            "351 conv4_block21_preact_bn\n",
            "352 conv4_block21_preact_relu\n",
            "353 conv4_block21_1_conv\n",
            "354 conv4_block21_1_bn\n",
            "355 conv4_block21_1_relu\n",
            "356 conv4_block21_2_pad\n",
            "357 conv4_block21_2_conv\n",
            "358 conv4_block21_2_bn\n",
            "359 conv4_block21_2_relu\n",
            "360 conv4_block21_3_conv\n",
            "361 conv4_block21_out\n",
            "362 conv4_block22_preact_bn\n",
            "363 conv4_block22_preact_relu\n",
            "364 conv4_block22_1_conv\n",
            "365 conv4_block22_1_bn\n",
            "366 conv4_block22_1_relu\n",
            "367 conv4_block22_2_pad\n",
            "368 conv4_block22_2_conv\n",
            "369 conv4_block22_2_bn\n",
            "370 conv4_block22_2_relu\n",
            "371 conv4_block22_3_conv\n",
            "372 conv4_block22_out\n",
            "373 conv4_block23_preact_bn\n",
            "374 conv4_block23_preact_relu\n",
            "375 conv4_block23_1_conv\n",
            "376 conv4_block23_1_bn\n",
            "377 conv4_block23_1_relu\n",
            "378 conv4_block23_2_pad\n",
            "379 conv4_block23_2_conv\n",
            "380 conv4_block23_2_bn\n",
            "381 conv4_block23_2_relu\n",
            "382 conv4_block23_3_conv\n",
            "383 conv4_block23_out\n",
            "384 conv4_block24_preact_bn\n",
            "385 conv4_block24_preact_relu\n",
            "386 conv4_block24_1_conv\n",
            "387 conv4_block24_1_bn\n",
            "388 conv4_block24_1_relu\n",
            "389 conv4_block24_2_pad\n",
            "390 conv4_block24_2_conv\n",
            "391 conv4_block24_2_bn\n",
            "392 conv4_block24_2_relu\n",
            "393 conv4_block24_3_conv\n",
            "394 conv4_block24_out\n",
            "395 conv4_block25_preact_bn\n",
            "396 conv4_block25_preact_relu\n",
            "397 conv4_block25_1_conv\n",
            "398 conv4_block25_1_bn\n",
            "399 conv4_block25_1_relu\n",
            "400 conv4_block25_2_pad\n",
            "401 conv4_block25_2_conv\n",
            "402 conv4_block25_2_bn\n",
            "403 conv4_block25_2_relu\n",
            "404 conv4_block25_3_conv\n",
            "405 conv4_block25_out\n",
            "406 conv4_block26_preact_bn\n",
            "407 conv4_block26_preact_relu\n",
            "408 conv4_block26_1_conv\n",
            "409 conv4_block26_1_bn\n",
            "410 conv4_block26_1_relu\n",
            "411 conv4_block26_2_pad\n",
            "412 conv4_block26_2_conv\n",
            "413 conv4_block26_2_bn\n",
            "414 conv4_block26_2_relu\n",
            "415 conv4_block26_3_conv\n",
            "416 conv4_block26_out\n",
            "417 conv4_block27_preact_bn\n",
            "418 conv4_block27_preact_relu\n",
            "419 conv4_block27_1_conv\n",
            "420 conv4_block27_1_bn\n",
            "421 conv4_block27_1_relu\n",
            "422 conv4_block27_2_pad\n",
            "423 conv4_block27_2_conv\n",
            "424 conv4_block27_2_bn\n",
            "425 conv4_block27_2_relu\n",
            "426 conv4_block27_3_conv\n",
            "427 conv4_block27_out\n",
            "428 conv4_block28_preact_bn\n",
            "429 conv4_block28_preact_relu\n",
            "430 conv4_block28_1_conv\n",
            "431 conv4_block28_1_bn\n",
            "432 conv4_block28_1_relu\n",
            "433 conv4_block28_2_pad\n",
            "434 conv4_block28_2_conv\n",
            "435 conv4_block28_2_bn\n",
            "436 conv4_block28_2_relu\n",
            "437 conv4_block28_3_conv\n",
            "438 conv4_block28_out\n",
            "439 conv4_block29_preact_bn\n",
            "440 conv4_block29_preact_relu\n",
            "441 conv4_block29_1_conv\n",
            "442 conv4_block29_1_bn\n",
            "443 conv4_block29_1_relu\n",
            "444 conv4_block29_2_pad\n",
            "445 conv4_block29_2_conv\n",
            "446 conv4_block29_2_bn\n",
            "447 conv4_block29_2_relu\n",
            "448 conv4_block29_3_conv\n",
            "449 conv4_block29_out\n",
            "450 conv4_block30_preact_bn\n",
            "451 conv4_block30_preact_relu\n",
            "452 conv4_block30_1_conv\n",
            "453 conv4_block30_1_bn\n",
            "454 conv4_block30_1_relu\n",
            "455 conv4_block30_2_pad\n",
            "456 conv4_block30_2_conv\n",
            "457 conv4_block30_2_bn\n",
            "458 conv4_block30_2_relu\n",
            "459 conv4_block30_3_conv\n",
            "460 conv4_block30_out\n",
            "461 conv4_block31_preact_bn\n",
            "462 conv4_block31_preact_relu\n",
            "463 conv4_block31_1_conv\n",
            "464 conv4_block31_1_bn\n",
            "465 conv4_block31_1_relu\n",
            "466 conv4_block31_2_pad\n",
            "467 conv4_block31_2_conv\n",
            "468 conv4_block31_2_bn\n",
            "469 conv4_block31_2_relu\n",
            "470 conv4_block31_3_conv\n",
            "471 conv4_block31_out\n",
            "472 conv4_block32_preact_bn\n",
            "473 conv4_block32_preact_relu\n",
            "474 conv4_block32_1_conv\n",
            "475 conv4_block32_1_bn\n",
            "476 conv4_block32_1_relu\n",
            "477 conv4_block32_2_pad\n",
            "478 conv4_block32_2_conv\n",
            "479 conv4_block32_2_bn\n",
            "480 conv4_block32_2_relu\n",
            "481 conv4_block32_3_conv\n",
            "482 conv4_block32_out\n",
            "483 conv4_block33_preact_bn\n",
            "484 conv4_block33_preact_relu\n",
            "485 conv4_block33_1_conv\n",
            "486 conv4_block33_1_bn\n",
            "487 conv4_block33_1_relu\n",
            "488 conv4_block33_2_pad\n",
            "489 conv4_block33_2_conv\n",
            "490 conv4_block33_2_bn\n",
            "491 conv4_block33_2_relu\n",
            "492 conv4_block33_3_conv\n",
            "493 conv4_block33_out\n",
            "494 conv4_block34_preact_bn\n",
            "495 conv4_block34_preact_relu\n",
            "496 conv4_block34_1_conv\n",
            "497 conv4_block34_1_bn\n",
            "498 conv4_block34_1_relu\n",
            "499 conv4_block34_2_pad\n",
            "500 conv4_block34_2_conv\n",
            "501 conv4_block34_2_bn\n",
            "502 conv4_block34_2_relu\n",
            "503 conv4_block34_3_conv\n",
            "504 conv4_block34_out\n",
            "505 conv4_block35_preact_bn\n",
            "506 conv4_block35_preact_relu\n",
            "507 conv4_block35_1_conv\n",
            "508 conv4_block35_1_bn\n",
            "509 conv4_block35_1_relu\n",
            "510 conv4_block35_2_pad\n",
            "511 conv4_block35_2_conv\n",
            "512 conv4_block35_2_bn\n",
            "513 conv4_block35_2_relu\n",
            "514 conv4_block35_3_conv\n",
            "515 conv4_block35_out\n",
            "516 conv4_block36_preact_bn\n",
            "517 conv4_block36_preact_relu\n",
            "518 conv4_block36_1_conv\n",
            "519 conv4_block36_1_bn\n",
            "520 conv4_block36_1_relu\n",
            "521 conv4_block36_2_pad\n",
            "522 conv4_block36_2_conv\n",
            "523 conv4_block36_2_bn\n",
            "524 conv4_block36_2_relu\n",
            "525 max_pooling2d_2\n",
            "526 conv4_block36_3_conv\n",
            "527 conv4_block36_out\n",
            "528 conv5_block1_preact_bn\n",
            "529 conv5_block1_preact_relu\n",
            "530 conv5_block1_1_conv\n",
            "531 conv5_block1_1_bn\n",
            "532 conv5_block1_1_relu\n",
            "533 conv5_block1_2_pad\n",
            "534 conv5_block1_2_conv\n",
            "535 conv5_block1_2_bn\n",
            "536 conv5_block1_2_relu\n",
            "537 conv5_block1_0_conv\n",
            "538 conv5_block1_3_conv\n",
            "539 conv5_block1_out\n",
            "540 conv5_block2_preact_bn\n",
            "541 conv5_block2_preact_relu\n",
            "542 conv5_block2_1_conv\n",
            "543 conv5_block2_1_bn\n",
            "544 conv5_block2_1_relu\n",
            "545 conv5_block2_2_pad\n",
            "546 conv5_block2_2_conv\n",
            "547 conv5_block2_2_bn\n",
            "548 conv5_block2_2_relu\n",
            "549 conv5_block2_3_conv\n",
            "550 conv5_block2_out\n",
            "551 conv5_block3_preact_bn\n",
            "552 conv5_block3_preact_relu\n",
            "553 conv5_block3_1_conv\n",
            "554 conv5_block3_1_bn\n",
            "555 conv5_block3_1_relu\n",
            "556 conv5_block3_2_pad\n",
            "557 conv5_block3_2_conv\n",
            "558 conv5_block3_2_bn\n",
            "559 conv5_block3_2_relu\n",
            "560 conv5_block3_3_conv\n",
            "561 conv5_block3_out\n",
            "562 post_bn\n",
            "563 post_relu\n"
          ]
        }
      ],
      "source": [
        "for layer_num,layer in enumerate(base_model.layers):\n",
        "  print(layer_num,layer.name)"
      ]
    },
    {
      "cell_type": "markdown",
      "source": [
        "##RESNET152V2 FINE TUNED MODEL FOR 14 CLASSES(40 LAYERS)"
      ],
      "metadata": {
        "id": "cnMl8WUJWW-O"
      }
    },
    {
      "cell_type": "code",
      "execution_count": 25,
      "metadata": {
        "id": "5PLGe-4ZvpXT"
      },
      "outputs": [],
      "source": [
        "base_model.trainable = True\n",
        "for layer in base_model.layers[:-40]:\n",
        "  layer.trainable = False"
      ]
    },
    {
      "cell_type": "code",
      "execution_count": 26,
      "metadata": {
        "colab": {
          "base_uri": "https://localhost:8080/"
        },
        "id": "lStZtBfUwBRS",
        "outputId": "c292d947-eacf-4fbd-9ca1-d3fe6dfec730"
      },
      "outputs": [
        {
          "output_type": "stream",
          "name": "stdout",
          "text": [
            "0 input_1 False\n",
            "1 conv1_pad False\n",
            "2 conv1_conv False\n",
            "3 pool1_pad False\n",
            "4 pool1_pool False\n",
            "5 conv2_block1_preact_bn False\n",
            "6 conv2_block1_preact_relu False\n",
            "7 conv2_block1_1_conv False\n",
            "8 conv2_block1_1_bn False\n",
            "9 conv2_block1_1_relu False\n",
            "10 conv2_block1_2_pad False\n",
            "11 conv2_block1_2_conv False\n",
            "12 conv2_block1_2_bn False\n",
            "13 conv2_block1_2_relu False\n",
            "14 conv2_block1_0_conv False\n",
            "15 conv2_block1_3_conv False\n",
            "16 conv2_block1_out False\n",
            "17 conv2_block2_preact_bn False\n",
            "18 conv2_block2_preact_relu False\n",
            "19 conv2_block2_1_conv False\n",
            "20 conv2_block2_1_bn False\n",
            "21 conv2_block2_1_relu False\n",
            "22 conv2_block2_2_pad False\n",
            "23 conv2_block2_2_conv False\n",
            "24 conv2_block2_2_bn False\n",
            "25 conv2_block2_2_relu False\n",
            "26 conv2_block2_3_conv False\n",
            "27 conv2_block2_out False\n",
            "28 conv2_block3_preact_bn False\n",
            "29 conv2_block3_preact_relu False\n",
            "30 conv2_block3_1_conv False\n",
            "31 conv2_block3_1_bn False\n",
            "32 conv2_block3_1_relu False\n",
            "33 conv2_block3_2_pad False\n",
            "34 conv2_block3_2_conv False\n",
            "35 conv2_block3_2_bn False\n",
            "36 conv2_block3_2_relu False\n",
            "37 max_pooling2d False\n",
            "38 conv2_block3_3_conv False\n",
            "39 conv2_block3_out False\n",
            "40 conv3_block1_preact_bn False\n",
            "41 conv3_block1_preact_relu False\n",
            "42 conv3_block1_1_conv False\n",
            "43 conv3_block1_1_bn False\n",
            "44 conv3_block1_1_relu False\n",
            "45 conv3_block1_2_pad False\n",
            "46 conv3_block1_2_conv False\n",
            "47 conv3_block1_2_bn False\n",
            "48 conv3_block1_2_relu False\n",
            "49 conv3_block1_0_conv False\n",
            "50 conv3_block1_3_conv False\n",
            "51 conv3_block1_out False\n",
            "52 conv3_block2_preact_bn False\n",
            "53 conv3_block2_preact_relu False\n",
            "54 conv3_block2_1_conv False\n",
            "55 conv3_block2_1_bn False\n",
            "56 conv3_block2_1_relu False\n",
            "57 conv3_block2_2_pad False\n",
            "58 conv3_block2_2_conv False\n",
            "59 conv3_block2_2_bn False\n",
            "60 conv3_block2_2_relu False\n",
            "61 conv3_block2_3_conv False\n",
            "62 conv3_block2_out False\n",
            "63 conv3_block3_preact_bn False\n",
            "64 conv3_block3_preact_relu False\n",
            "65 conv3_block3_1_conv False\n",
            "66 conv3_block3_1_bn False\n",
            "67 conv3_block3_1_relu False\n",
            "68 conv3_block3_2_pad False\n",
            "69 conv3_block3_2_conv False\n",
            "70 conv3_block3_2_bn False\n",
            "71 conv3_block3_2_relu False\n",
            "72 conv3_block3_3_conv False\n",
            "73 conv3_block3_out False\n",
            "74 conv3_block4_preact_bn False\n",
            "75 conv3_block4_preact_relu False\n",
            "76 conv3_block4_1_conv False\n",
            "77 conv3_block4_1_bn False\n",
            "78 conv3_block4_1_relu False\n",
            "79 conv3_block4_2_pad False\n",
            "80 conv3_block4_2_conv False\n",
            "81 conv3_block4_2_bn False\n",
            "82 conv3_block4_2_relu False\n",
            "83 conv3_block4_3_conv False\n",
            "84 conv3_block4_out False\n",
            "85 conv3_block5_preact_bn False\n",
            "86 conv3_block5_preact_relu False\n",
            "87 conv3_block5_1_conv False\n",
            "88 conv3_block5_1_bn False\n",
            "89 conv3_block5_1_relu False\n",
            "90 conv3_block5_2_pad False\n",
            "91 conv3_block5_2_conv False\n",
            "92 conv3_block5_2_bn False\n",
            "93 conv3_block5_2_relu False\n",
            "94 conv3_block5_3_conv False\n",
            "95 conv3_block5_out False\n",
            "96 conv3_block6_preact_bn False\n",
            "97 conv3_block6_preact_relu False\n",
            "98 conv3_block6_1_conv False\n",
            "99 conv3_block6_1_bn False\n",
            "100 conv3_block6_1_relu False\n",
            "101 conv3_block6_2_pad False\n",
            "102 conv3_block6_2_conv False\n",
            "103 conv3_block6_2_bn False\n",
            "104 conv3_block6_2_relu False\n",
            "105 conv3_block6_3_conv False\n",
            "106 conv3_block6_out False\n",
            "107 conv3_block7_preact_bn False\n",
            "108 conv3_block7_preact_relu False\n",
            "109 conv3_block7_1_conv False\n",
            "110 conv3_block7_1_bn False\n",
            "111 conv3_block7_1_relu False\n",
            "112 conv3_block7_2_pad False\n",
            "113 conv3_block7_2_conv False\n",
            "114 conv3_block7_2_bn False\n",
            "115 conv3_block7_2_relu False\n",
            "116 conv3_block7_3_conv False\n",
            "117 conv3_block7_out False\n",
            "118 conv3_block8_preact_bn False\n",
            "119 conv3_block8_preact_relu False\n",
            "120 conv3_block8_1_conv False\n",
            "121 conv3_block8_1_bn False\n",
            "122 conv3_block8_1_relu False\n",
            "123 conv3_block8_2_pad False\n",
            "124 conv3_block8_2_conv False\n",
            "125 conv3_block8_2_bn False\n",
            "126 conv3_block8_2_relu False\n",
            "127 max_pooling2d_1 False\n",
            "128 conv3_block8_3_conv False\n",
            "129 conv3_block8_out False\n",
            "130 conv4_block1_preact_bn False\n",
            "131 conv4_block1_preact_relu False\n",
            "132 conv4_block1_1_conv False\n",
            "133 conv4_block1_1_bn False\n",
            "134 conv4_block1_1_relu False\n",
            "135 conv4_block1_2_pad False\n",
            "136 conv4_block1_2_conv False\n",
            "137 conv4_block1_2_bn False\n",
            "138 conv4_block1_2_relu False\n",
            "139 conv4_block1_0_conv False\n",
            "140 conv4_block1_3_conv False\n",
            "141 conv4_block1_out False\n",
            "142 conv4_block2_preact_bn False\n",
            "143 conv4_block2_preact_relu False\n",
            "144 conv4_block2_1_conv False\n",
            "145 conv4_block2_1_bn False\n",
            "146 conv4_block2_1_relu False\n",
            "147 conv4_block2_2_pad False\n",
            "148 conv4_block2_2_conv False\n",
            "149 conv4_block2_2_bn False\n",
            "150 conv4_block2_2_relu False\n",
            "151 conv4_block2_3_conv False\n",
            "152 conv4_block2_out False\n",
            "153 conv4_block3_preact_bn False\n",
            "154 conv4_block3_preact_relu False\n",
            "155 conv4_block3_1_conv False\n",
            "156 conv4_block3_1_bn False\n",
            "157 conv4_block3_1_relu False\n",
            "158 conv4_block3_2_pad False\n",
            "159 conv4_block3_2_conv False\n",
            "160 conv4_block3_2_bn False\n",
            "161 conv4_block3_2_relu False\n",
            "162 conv4_block3_3_conv False\n",
            "163 conv4_block3_out False\n",
            "164 conv4_block4_preact_bn False\n",
            "165 conv4_block4_preact_relu False\n",
            "166 conv4_block4_1_conv False\n",
            "167 conv4_block4_1_bn False\n",
            "168 conv4_block4_1_relu False\n",
            "169 conv4_block4_2_pad False\n",
            "170 conv4_block4_2_conv False\n",
            "171 conv4_block4_2_bn False\n",
            "172 conv4_block4_2_relu False\n",
            "173 conv4_block4_3_conv False\n",
            "174 conv4_block4_out False\n",
            "175 conv4_block5_preact_bn False\n",
            "176 conv4_block5_preact_relu False\n",
            "177 conv4_block5_1_conv False\n",
            "178 conv4_block5_1_bn False\n",
            "179 conv4_block5_1_relu False\n",
            "180 conv4_block5_2_pad False\n",
            "181 conv4_block5_2_conv False\n",
            "182 conv4_block5_2_bn False\n",
            "183 conv4_block5_2_relu False\n",
            "184 conv4_block5_3_conv False\n",
            "185 conv4_block5_out False\n",
            "186 conv4_block6_preact_bn False\n",
            "187 conv4_block6_preact_relu False\n",
            "188 conv4_block6_1_conv False\n",
            "189 conv4_block6_1_bn False\n",
            "190 conv4_block6_1_relu False\n",
            "191 conv4_block6_2_pad False\n",
            "192 conv4_block6_2_conv False\n",
            "193 conv4_block6_2_bn False\n",
            "194 conv4_block6_2_relu False\n",
            "195 conv4_block6_3_conv False\n",
            "196 conv4_block6_out False\n",
            "197 conv4_block7_preact_bn False\n",
            "198 conv4_block7_preact_relu False\n",
            "199 conv4_block7_1_conv False\n",
            "200 conv4_block7_1_bn False\n",
            "201 conv4_block7_1_relu False\n",
            "202 conv4_block7_2_pad False\n",
            "203 conv4_block7_2_conv False\n",
            "204 conv4_block7_2_bn False\n",
            "205 conv4_block7_2_relu False\n",
            "206 conv4_block7_3_conv False\n",
            "207 conv4_block7_out False\n",
            "208 conv4_block8_preact_bn False\n",
            "209 conv4_block8_preact_relu False\n",
            "210 conv4_block8_1_conv False\n",
            "211 conv4_block8_1_bn False\n",
            "212 conv4_block8_1_relu False\n",
            "213 conv4_block8_2_pad False\n",
            "214 conv4_block8_2_conv False\n",
            "215 conv4_block8_2_bn False\n",
            "216 conv4_block8_2_relu False\n",
            "217 conv4_block8_3_conv False\n",
            "218 conv4_block8_out False\n",
            "219 conv4_block9_preact_bn False\n",
            "220 conv4_block9_preact_relu False\n",
            "221 conv4_block9_1_conv False\n",
            "222 conv4_block9_1_bn False\n",
            "223 conv4_block9_1_relu False\n",
            "224 conv4_block9_2_pad False\n",
            "225 conv4_block9_2_conv False\n",
            "226 conv4_block9_2_bn False\n",
            "227 conv4_block9_2_relu False\n",
            "228 conv4_block9_3_conv False\n",
            "229 conv4_block9_out False\n",
            "230 conv4_block10_preact_bn False\n",
            "231 conv4_block10_preact_relu False\n",
            "232 conv4_block10_1_conv False\n",
            "233 conv4_block10_1_bn False\n",
            "234 conv4_block10_1_relu False\n",
            "235 conv4_block10_2_pad False\n",
            "236 conv4_block10_2_conv False\n",
            "237 conv4_block10_2_bn False\n",
            "238 conv4_block10_2_relu False\n",
            "239 conv4_block10_3_conv False\n",
            "240 conv4_block10_out False\n",
            "241 conv4_block11_preact_bn False\n",
            "242 conv4_block11_preact_relu False\n",
            "243 conv4_block11_1_conv False\n",
            "244 conv4_block11_1_bn False\n",
            "245 conv4_block11_1_relu False\n",
            "246 conv4_block11_2_pad False\n",
            "247 conv4_block11_2_conv False\n",
            "248 conv4_block11_2_bn False\n",
            "249 conv4_block11_2_relu False\n",
            "250 conv4_block11_3_conv False\n",
            "251 conv4_block11_out False\n",
            "252 conv4_block12_preact_bn False\n",
            "253 conv4_block12_preact_relu False\n",
            "254 conv4_block12_1_conv False\n",
            "255 conv4_block12_1_bn False\n",
            "256 conv4_block12_1_relu False\n",
            "257 conv4_block12_2_pad False\n",
            "258 conv4_block12_2_conv False\n",
            "259 conv4_block12_2_bn False\n",
            "260 conv4_block12_2_relu False\n",
            "261 conv4_block12_3_conv False\n",
            "262 conv4_block12_out False\n",
            "263 conv4_block13_preact_bn False\n",
            "264 conv4_block13_preact_relu False\n",
            "265 conv4_block13_1_conv False\n",
            "266 conv4_block13_1_bn False\n",
            "267 conv4_block13_1_relu False\n",
            "268 conv4_block13_2_pad False\n",
            "269 conv4_block13_2_conv False\n",
            "270 conv4_block13_2_bn False\n",
            "271 conv4_block13_2_relu False\n",
            "272 conv4_block13_3_conv False\n",
            "273 conv4_block13_out False\n",
            "274 conv4_block14_preact_bn False\n",
            "275 conv4_block14_preact_relu False\n",
            "276 conv4_block14_1_conv False\n",
            "277 conv4_block14_1_bn False\n",
            "278 conv4_block14_1_relu False\n",
            "279 conv4_block14_2_pad False\n",
            "280 conv4_block14_2_conv False\n",
            "281 conv4_block14_2_bn False\n",
            "282 conv4_block14_2_relu False\n",
            "283 conv4_block14_3_conv False\n",
            "284 conv4_block14_out False\n",
            "285 conv4_block15_preact_bn False\n",
            "286 conv4_block15_preact_relu False\n",
            "287 conv4_block15_1_conv False\n",
            "288 conv4_block15_1_bn False\n",
            "289 conv4_block15_1_relu False\n",
            "290 conv4_block15_2_pad False\n",
            "291 conv4_block15_2_conv False\n",
            "292 conv4_block15_2_bn False\n",
            "293 conv4_block15_2_relu False\n",
            "294 conv4_block15_3_conv False\n",
            "295 conv4_block15_out False\n",
            "296 conv4_block16_preact_bn False\n",
            "297 conv4_block16_preact_relu False\n",
            "298 conv4_block16_1_conv False\n",
            "299 conv4_block16_1_bn False\n",
            "300 conv4_block16_1_relu False\n",
            "301 conv4_block16_2_pad False\n",
            "302 conv4_block16_2_conv False\n",
            "303 conv4_block16_2_bn False\n",
            "304 conv4_block16_2_relu False\n",
            "305 conv4_block16_3_conv False\n",
            "306 conv4_block16_out False\n",
            "307 conv4_block17_preact_bn False\n",
            "308 conv4_block17_preact_relu False\n",
            "309 conv4_block17_1_conv False\n",
            "310 conv4_block17_1_bn False\n",
            "311 conv4_block17_1_relu False\n",
            "312 conv4_block17_2_pad False\n",
            "313 conv4_block17_2_conv False\n",
            "314 conv4_block17_2_bn False\n",
            "315 conv4_block17_2_relu False\n",
            "316 conv4_block17_3_conv False\n",
            "317 conv4_block17_out False\n",
            "318 conv4_block18_preact_bn False\n",
            "319 conv4_block18_preact_relu False\n",
            "320 conv4_block18_1_conv False\n",
            "321 conv4_block18_1_bn False\n",
            "322 conv4_block18_1_relu False\n",
            "323 conv4_block18_2_pad False\n",
            "324 conv4_block18_2_conv False\n",
            "325 conv4_block18_2_bn False\n",
            "326 conv4_block18_2_relu False\n",
            "327 conv4_block18_3_conv False\n",
            "328 conv4_block18_out False\n",
            "329 conv4_block19_preact_bn False\n",
            "330 conv4_block19_preact_relu False\n",
            "331 conv4_block19_1_conv False\n",
            "332 conv4_block19_1_bn False\n",
            "333 conv4_block19_1_relu False\n",
            "334 conv4_block19_2_pad False\n",
            "335 conv4_block19_2_conv False\n",
            "336 conv4_block19_2_bn False\n",
            "337 conv4_block19_2_relu False\n",
            "338 conv4_block19_3_conv False\n",
            "339 conv4_block19_out False\n",
            "340 conv4_block20_preact_bn False\n",
            "341 conv4_block20_preact_relu False\n",
            "342 conv4_block20_1_conv False\n",
            "343 conv4_block20_1_bn False\n",
            "344 conv4_block20_1_relu False\n",
            "345 conv4_block20_2_pad False\n",
            "346 conv4_block20_2_conv False\n",
            "347 conv4_block20_2_bn False\n",
            "348 conv4_block20_2_relu False\n",
            "349 conv4_block20_3_conv False\n",
            "350 conv4_block20_out False\n",
            "351 conv4_block21_preact_bn False\n",
            "352 conv4_block21_preact_relu False\n",
            "353 conv4_block21_1_conv False\n",
            "354 conv4_block21_1_bn False\n",
            "355 conv4_block21_1_relu False\n",
            "356 conv4_block21_2_pad False\n",
            "357 conv4_block21_2_conv False\n",
            "358 conv4_block21_2_bn False\n",
            "359 conv4_block21_2_relu False\n",
            "360 conv4_block21_3_conv False\n",
            "361 conv4_block21_out False\n",
            "362 conv4_block22_preact_bn False\n",
            "363 conv4_block22_preact_relu False\n",
            "364 conv4_block22_1_conv False\n",
            "365 conv4_block22_1_bn False\n",
            "366 conv4_block22_1_relu False\n",
            "367 conv4_block22_2_pad False\n",
            "368 conv4_block22_2_conv False\n",
            "369 conv4_block22_2_bn False\n",
            "370 conv4_block22_2_relu False\n",
            "371 conv4_block22_3_conv False\n",
            "372 conv4_block22_out False\n",
            "373 conv4_block23_preact_bn False\n",
            "374 conv4_block23_preact_relu False\n",
            "375 conv4_block23_1_conv False\n",
            "376 conv4_block23_1_bn False\n",
            "377 conv4_block23_1_relu False\n",
            "378 conv4_block23_2_pad False\n",
            "379 conv4_block23_2_conv False\n",
            "380 conv4_block23_2_bn False\n",
            "381 conv4_block23_2_relu False\n",
            "382 conv4_block23_3_conv False\n",
            "383 conv4_block23_out False\n",
            "384 conv4_block24_preact_bn False\n",
            "385 conv4_block24_preact_relu False\n",
            "386 conv4_block24_1_conv False\n",
            "387 conv4_block24_1_bn False\n",
            "388 conv4_block24_1_relu False\n",
            "389 conv4_block24_2_pad False\n",
            "390 conv4_block24_2_conv False\n",
            "391 conv4_block24_2_bn False\n",
            "392 conv4_block24_2_relu False\n",
            "393 conv4_block24_3_conv False\n",
            "394 conv4_block24_out False\n",
            "395 conv4_block25_preact_bn False\n",
            "396 conv4_block25_preact_relu False\n",
            "397 conv4_block25_1_conv False\n",
            "398 conv4_block25_1_bn False\n",
            "399 conv4_block25_1_relu False\n",
            "400 conv4_block25_2_pad False\n",
            "401 conv4_block25_2_conv False\n",
            "402 conv4_block25_2_bn False\n",
            "403 conv4_block25_2_relu False\n",
            "404 conv4_block25_3_conv False\n",
            "405 conv4_block25_out False\n",
            "406 conv4_block26_preact_bn False\n",
            "407 conv4_block26_preact_relu False\n",
            "408 conv4_block26_1_conv False\n",
            "409 conv4_block26_1_bn False\n",
            "410 conv4_block26_1_relu False\n",
            "411 conv4_block26_2_pad False\n",
            "412 conv4_block26_2_conv False\n",
            "413 conv4_block26_2_bn False\n",
            "414 conv4_block26_2_relu False\n",
            "415 conv4_block26_3_conv False\n",
            "416 conv4_block26_out False\n",
            "417 conv4_block27_preact_bn False\n",
            "418 conv4_block27_preact_relu False\n",
            "419 conv4_block27_1_conv False\n",
            "420 conv4_block27_1_bn False\n",
            "421 conv4_block27_1_relu False\n",
            "422 conv4_block27_2_pad False\n",
            "423 conv4_block27_2_conv False\n",
            "424 conv4_block27_2_bn False\n",
            "425 conv4_block27_2_relu False\n",
            "426 conv4_block27_3_conv False\n",
            "427 conv4_block27_out False\n",
            "428 conv4_block28_preact_bn False\n",
            "429 conv4_block28_preact_relu False\n",
            "430 conv4_block28_1_conv False\n",
            "431 conv4_block28_1_bn False\n",
            "432 conv4_block28_1_relu False\n",
            "433 conv4_block28_2_pad False\n",
            "434 conv4_block28_2_conv False\n",
            "435 conv4_block28_2_bn False\n",
            "436 conv4_block28_2_relu False\n",
            "437 conv4_block28_3_conv False\n",
            "438 conv4_block28_out False\n",
            "439 conv4_block29_preact_bn False\n",
            "440 conv4_block29_preact_relu False\n",
            "441 conv4_block29_1_conv False\n",
            "442 conv4_block29_1_bn False\n",
            "443 conv4_block29_1_relu False\n",
            "444 conv4_block29_2_pad False\n",
            "445 conv4_block29_2_conv False\n",
            "446 conv4_block29_2_bn False\n",
            "447 conv4_block29_2_relu False\n",
            "448 conv4_block29_3_conv False\n",
            "449 conv4_block29_out False\n",
            "450 conv4_block30_preact_bn False\n",
            "451 conv4_block30_preact_relu False\n",
            "452 conv4_block30_1_conv False\n",
            "453 conv4_block30_1_bn False\n",
            "454 conv4_block30_1_relu False\n",
            "455 conv4_block30_2_pad False\n",
            "456 conv4_block30_2_conv False\n",
            "457 conv4_block30_2_bn False\n",
            "458 conv4_block30_2_relu False\n",
            "459 conv4_block30_3_conv False\n",
            "460 conv4_block30_out False\n",
            "461 conv4_block31_preact_bn False\n",
            "462 conv4_block31_preact_relu False\n",
            "463 conv4_block31_1_conv False\n",
            "464 conv4_block31_1_bn False\n",
            "465 conv4_block31_1_relu False\n",
            "466 conv4_block31_2_pad False\n",
            "467 conv4_block31_2_conv False\n",
            "468 conv4_block31_2_bn False\n",
            "469 conv4_block31_2_relu False\n",
            "470 conv4_block31_3_conv False\n",
            "471 conv4_block31_out False\n",
            "472 conv4_block32_preact_bn False\n",
            "473 conv4_block32_preact_relu False\n",
            "474 conv4_block32_1_conv False\n",
            "475 conv4_block32_1_bn False\n",
            "476 conv4_block32_1_relu False\n",
            "477 conv4_block32_2_pad False\n",
            "478 conv4_block32_2_conv False\n",
            "479 conv4_block32_2_bn False\n",
            "480 conv4_block32_2_relu False\n",
            "481 conv4_block32_3_conv False\n",
            "482 conv4_block32_out False\n",
            "483 conv4_block33_preact_bn False\n",
            "484 conv4_block33_preact_relu False\n",
            "485 conv4_block33_1_conv False\n",
            "486 conv4_block33_1_bn False\n",
            "487 conv4_block33_1_relu False\n",
            "488 conv4_block33_2_pad False\n",
            "489 conv4_block33_2_conv False\n",
            "490 conv4_block33_2_bn False\n",
            "491 conv4_block33_2_relu False\n",
            "492 conv4_block33_3_conv False\n",
            "493 conv4_block33_out False\n",
            "494 conv4_block34_preact_bn False\n",
            "495 conv4_block34_preact_relu False\n",
            "496 conv4_block34_1_conv False\n",
            "497 conv4_block34_1_bn False\n",
            "498 conv4_block34_1_relu False\n",
            "499 conv4_block34_2_pad False\n",
            "500 conv4_block34_2_conv False\n",
            "501 conv4_block34_2_bn False\n",
            "502 conv4_block34_2_relu False\n",
            "503 conv4_block34_3_conv False\n",
            "504 conv4_block34_out False\n",
            "505 conv4_block35_preact_bn False\n",
            "506 conv4_block35_preact_relu False\n",
            "507 conv4_block35_1_conv False\n",
            "508 conv4_block35_1_bn False\n",
            "509 conv4_block35_1_relu False\n",
            "510 conv4_block35_2_pad False\n",
            "511 conv4_block35_2_conv False\n",
            "512 conv4_block35_2_bn False\n",
            "513 conv4_block35_2_relu False\n",
            "514 conv4_block35_3_conv False\n",
            "515 conv4_block35_out False\n",
            "516 conv4_block36_preact_bn False\n",
            "517 conv4_block36_preact_relu False\n",
            "518 conv4_block36_1_conv False\n",
            "519 conv4_block36_1_bn False\n",
            "520 conv4_block36_1_relu False\n",
            "521 conv4_block36_2_pad False\n",
            "522 conv4_block36_2_conv False\n",
            "523 conv4_block36_2_bn False\n",
            "524 conv4_block36_2_relu True\n",
            "525 max_pooling2d_2 True\n",
            "526 conv4_block36_3_conv True\n",
            "527 conv4_block36_out True\n",
            "528 conv5_block1_preact_bn True\n",
            "529 conv5_block1_preact_relu True\n",
            "530 conv5_block1_1_conv True\n",
            "531 conv5_block1_1_bn True\n",
            "532 conv5_block1_1_relu True\n",
            "533 conv5_block1_2_pad True\n",
            "534 conv5_block1_2_conv True\n",
            "535 conv5_block1_2_bn True\n",
            "536 conv5_block1_2_relu True\n",
            "537 conv5_block1_0_conv True\n",
            "538 conv5_block1_3_conv True\n",
            "539 conv5_block1_out True\n",
            "540 conv5_block2_preact_bn True\n",
            "541 conv5_block2_preact_relu True\n",
            "542 conv5_block2_1_conv True\n",
            "543 conv5_block2_1_bn True\n",
            "544 conv5_block2_1_relu True\n",
            "545 conv5_block2_2_pad True\n",
            "546 conv5_block2_2_conv True\n",
            "547 conv5_block2_2_bn True\n",
            "548 conv5_block2_2_relu True\n",
            "549 conv5_block2_3_conv True\n",
            "550 conv5_block2_out True\n",
            "551 conv5_block3_preact_bn True\n",
            "552 conv5_block3_preact_relu True\n",
            "553 conv5_block3_1_conv True\n",
            "554 conv5_block3_1_bn True\n",
            "555 conv5_block3_1_relu True\n",
            "556 conv5_block3_2_pad True\n",
            "557 conv5_block3_2_conv True\n",
            "558 conv5_block3_2_bn True\n",
            "559 conv5_block3_2_relu True\n",
            "560 conv5_block3_3_conv True\n",
            "561 conv5_block3_out True\n",
            "562 post_bn True\n",
            "563 post_relu True\n"
          ]
        }
      ],
      "source": [
        "for layer_num,layer in enumerate(base_model.layers):\n",
        "  print(layer_num,layer.name,layer.trainable)"
      ]
    },
    {
      "cell_type": "code",
      "execution_count": 27,
      "metadata": {
        "id": "Ous2A2r3wE7X"
      },
      "outputs": [],
      "source": [
        "model_res.compile(loss = tf.keras.losses.CategoricalCrossentropy(),optimizer = tf.keras.optimizers.Adam(learning_rate = 0.00001),\n",
        "                  metrics = [\"accuracy\"])"
      ]
    },
    {
      "cell_type": "code",
      "execution_count": 28,
      "metadata": {
        "colab": {
          "base_uri": "https://localhost:8080/"
        },
        "id": "Bt2lxKYBxd70",
        "outputId": "bb7b6658-8674-4174-b92b-0c384f6b2e2f"
      },
      "outputs": [
        {
          "output_type": "stream",
          "name": "stdout",
          "text": [
            "Saving TensorBoard log files to: HAR_TRANSFER_LEARNING/RESNET_FINE_TUNED/20220728-140935\n"
          ]
        },
        {
          "output_type": "stream",
          "name": "stderr",
          "text": [
            "/usr/local/lib/python3.7/dist-packages/keras_preprocessing/image/image_data_generator.py:720: UserWarning: This ImageDataGenerator specifies `featurewise_center`, but it hasn't been fit on any training data. Fit it first by calling `.fit(numpy_data)`.\n",
            "  warnings.warn('This ImageDataGenerator specifies '\n",
            "/usr/local/lib/python3.7/dist-packages/keras_preprocessing/image/image_data_generator.py:739: UserWarning: This ImageDataGenerator specifies `zca_whitening`, but it hasn't been fit on any training data. Fit it first by calling `.fit(numpy_data)`.\n",
            "  warnings.warn('This ImageDataGenerator specifies '\n"
          ]
        },
        {
          "output_type": "stream",
          "name": "stdout",
          "text": [
            "Epoch 20/50\n",
            "298/298 [==============================] - 63s 173ms/step - loss: 1.1184 - accuracy: 0.6375 - val_loss: 0.9533 - val_accuracy: 0.7067 - lr: 1.0000e-05\n",
            "Epoch 21/50\n",
            "298/298 [==============================] - 43s 145ms/step - loss: 0.9802 - accuracy: 0.6833 - val_loss: 0.9184 - val_accuracy: 0.7238 - lr: 1.0000e-05\n",
            "Epoch 22/50\n",
            "298/298 [==============================] - 44s 146ms/step - loss: 0.9109 - accuracy: 0.7080 - val_loss: 0.8796 - val_accuracy: 0.7343 - lr: 1.0000e-05\n",
            "Epoch 23/50\n",
            "298/298 [==============================] - 43s 143ms/step - loss: 0.8661 - accuracy: 0.7223 - val_loss: 0.8597 - val_accuracy: 0.7476 - lr: 1.0000e-05\n",
            "Epoch 24/50\n",
            "298/298 [==============================] - 43s 145ms/step - loss: 0.8188 - accuracy: 0.7359 - val_loss: 0.8320 - val_accuracy: 0.7543 - lr: 1.0000e-05\n",
            "Epoch 25/50\n",
            "298/298 [==============================] - 43s 145ms/step - loss: 0.7803 - accuracy: 0.7493 - val_loss: 0.8060 - val_accuracy: 0.7562 - lr: 1.0000e-05\n",
            "Epoch 26/50\n",
            "298/298 [==============================] - 43s 143ms/step - loss: 0.7522 - accuracy: 0.7578 - val_loss: 0.7905 - val_accuracy: 0.7610 - lr: 1.0000e-05\n",
            "Epoch 27/50\n",
            "298/298 [==============================] - 43s 142ms/step - loss: 0.7132 - accuracy: 0.7670 - val_loss: 0.8033 - val_accuracy: 0.7619 - lr: 1.0000e-05\n",
            "Epoch 28/50\n",
            "298/298 [==============================] - 43s 143ms/step - loss: 0.6978 - accuracy: 0.7767 - val_loss: 0.7812 - val_accuracy: 0.7638 - lr: 1.0000e-05\n",
            "Epoch 29/50\n",
            "298/298 [==============================] - 43s 143ms/step - loss: 0.6594 - accuracy: 0.7893 - val_loss: 0.7738 - val_accuracy: 0.7629 - lr: 1.0000e-05\n",
            "Epoch 30/50\n",
            "298/298 [==============================] - 43s 144ms/step - loss: 0.6274 - accuracy: 0.7993 - val_loss: 0.7484 - val_accuracy: 0.7781 - lr: 1.0000e-05\n",
            "Epoch 31/50\n",
            "298/298 [==============================] - 43s 144ms/step - loss: 0.6089 - accuracy: 0.8080 - val_loss: 0.7320 - val_accuracy: 0.7857 - lr: 1.0000e-05\n",
            "Epoch 32/50\n",
            "298/298 [==============================] - 42s 142ms/step - loss: 0.5833 - accuracy: 0.8167 - val_loss: 0.7264 - val_accuracy: 0.7895 - lr: 1.0000e-05\n",
            "Epoch 33/50\n",
            "298/298 [==============================] - 43s 144ms/step - loss: 0.5594 - accuracy: 0.8228 - val_loss: 0.7125 - val_accuracy: 0.7914 - lr: 1.0000e-05\n",
            "Epoch 34/50\n",
            "298/298 [==============================] - 42s 140ms/step - loss: 0.5498 - accuracy: 0.8241 - val_loss: 0.7128 - val_accuracy: 0.7914 - lr: 1.0000e-05\n",
            "Epoch 35/50\n",
            "298/298 [==============================] - 43s 143ms/step - loss: 0.5208 - accuracy: 0.8358 - val_loss: 0.6984 - val_accuracy: 0.8000 - lr: 1.0000e-05\n",
            "Epoch 36/50\n",
            "298/298 [==============================] - 43s 143ms/step - loss: 0.5048 - accuracy: 0.8412 - val_loss: 0.6975 - val_accuracy: 0.7971 - lr: 1.0000e-05\n",
            "Epoch 37/50\n",
            "298/298 [==============================] - 42s 141ms/step - loss: 0.4824 - accuracy: 0.8474 - val_loss: 0.6910 - val_accuracy: 0.8000 - lr: 1.0000e-05\n",
            "Epoch 38/50\n",
            "298/298 [==============================] - 42s 142ms/step - loss: 0.4614 - accuracy: 0.8525 - val_loss: 0.6905 - val_accuracy: 0.8105 - lr: 1.0000e-05\n",
            "Epoch 39/50\n",
            "298/298 [==============================] - 42s 142ms/step - loss: 0.4488 - accuracy: 0.8609 - val_loss: 0.6904 - val_accuracy: 0.8086 - lr: 1.0000e-05\n",
            "Epoch 40/50\n",
            "298/298 [==============================] - 42s 141ms/step - loss: 0.4353 - accuracy: 0.8642 - val_loss: 0.6767 - val_accuracy: 0.8143 - lr: 1.0000e-05\n",
            "Epoch 41/50\n",
            "298/298 [==============================] - 42s 141ms/step - loss: 0.4154 - accuracy: 0.8703 - val_loss: 0.6824 - val_accuracy: 0.8143 - lr: 1.0000e-05\n",
            "Epoch 42/50\n",
            "298/298 [==============================] - 42s 140ms/step - loss: 0.3982 - accuracy: 0.8730 - val_loss: 0.6578 - val_accuracy: 0.8181 - lr: 1.0000e-05\n",
            "Epoch 43/50\n",
            "298/298 [==============================] - 42s 142ms/step - loss: 0.3811 - accuracy: 0.8811 - val_loss: 0.6657 - val_accuracy: 0.8124 - lr: 1.0000e-05\n",
            "Epoch 44/50\n",
            "298/298 [==============================] - 42s 141ms/step - loss: 0.3647 - accuracy: 0.8911 - val_loss: 0.6489 - val_accuracy: 0.8238 - lr: 1.0000e-05\n",
            "Epoch 45/50\n",
            "298/298 [==============================] - 42s 142ms/step - loss: 0.3504 - accuracy: 0.8912 - val_loss: 0.6597 - val_accuracy: 0.8190 - lr: 1.0000e-05\n",
            "Epoch 46/50\n",
            "298/298 [==============================] - 42s 140ms/step - loss: 0.3399 - accuracy: 0.8940 - val_loss: 0.6466 - val_accuracy: 0.8229 - lr: 1.0000e-05\n",
            "Epoch 47/50\n",
            "298/298 [==============================] - 42s 140ms/step - loss: 0.3390 - accuracy: 0.8942 - val_loss: 0.6583 - val_accuracy: 0.8267 - lr: 1.0000e-05\n",
            "Epoch 48/50\n",
            "298/298 [==============================] - 42s 142ms/step - loss: 0.3130 - accuracy: 0.9043 - val_loss: 0.6495 - val_accuracy: 0.8276 - lr: 1.0000e-05\n",
            "Epoch 49/50\n",
            "298/298 [==============================] - 42s 141ms/step - loss: 0.2905 - accuracy: 0.9138 - val_loss: 0.6468 - val_accuracy: 0.8229 - lr: 1.0000e-05\n",
            "Epoch 50/50\n",
            "298/298 [==============================] - 42s 140ms/step - loss: 0.2873 - accuracy: 0.9165 - val_loss: 0.6414 - val_accuracy: 0.8295 - lr: 1.0000e-05\n"
          ]
        }
      ],
      "source": [
        "history_2 = model_res.fit(train_data,epochs = 50,steps_per_epoch=len(train_data),initial_epoch = history_1.epoch[-1],\n",
        "                          validation_data  = validation_data,validation_steps = len(validation_data),\n",
        "                          callbacks = [create_tensorboard_callback(dir_name = \"HAR_TRANSFER_LEARNING\",experiment_name = \"RESNET_FINE_TUNED\"),\n",
        "                                       early_stop,reduce_lr])"
      ]
    },
    {
      "cell_type": "code",
      "execution_count": 29,
      "metadata": {
        "colab": {
          "base_uri": "https://localhost:8080/"
        },
        "id": "oxmc2lCR46R5",
        "outputId": "71108114-15d2-4298-e948-7351bfc2d6d8"
      },
      "outputs": [
        {
          "output_type": "stream",
          "name": "stderr",
          "text": [
            "/usr/local/lib/python3.7/dist-packages/keras_preprocessing/image/image_data_generator.py:720: UserWarning: This ImageDataGenerator specifies `featurewise_center`, but it hasn't been fit on any training data. Fit it first by calling `.fit(numpy_data)`.\n",
            "  warnings.warn('This ImageDataGenerator specifies '\n",
            "/usr/local/lib/python3.7/dist-packages/keras_preprocessing/image/image_data_generator.py:739: UserWarning: This ImageDataGenerator specifies `zca_whitening`, but it hasn't been fit on any training data. Fit it first by calling `.fit(numpy_data)`.\n",
            "  warnings.warn('This ImageDataGenerator specifies '\n"
          ]
        },
        {
          "output_type": "stream",
          "name": "stdout",
          "text": [
            "33/33 [==============================] - 3s 102ms/step - loss: 0.6414 - accuracy: 0.8295\n",
            "Validation Accuracy =  [0.6413704752922058, 0.8295238018035889]\n",
            "37/37 [==============================] - 4s 98ms/step - loss: 0.4554 - accuracy: 0.8571\n",
            "Testing Accuracy is =  [0.4554131031036377, 0.8571428656578064]\n"
          ]
        }
      ],
      "source": [
        "print(\"Validation Accuracy = \",model_res.evaluate(validation_data))\n",
        "print(\"Testing Accuracy is = \",model_res.evaluate(test_data))"
      ]
    },
    {
      "cell_type": "code",
      "source": [
        "plot_loss_curves(history_2)"
      ],
      "metadata": {
        "colab": {
          "base_uri": "https://localhost:8080/",
          "height": 573
        },
        "id": "DKj7kWLqxz5f",
        "outputId": "3d749699-6d84-429a-8a1c-b83d0fbeba0d"
      },
      "execution_count": 30,
      "outputs": [
        {
          "output_type": "display_data",
          "data": {
            "text/plain": [
              "<Figure size 432x288 with 1 Axes>"
            ],
            "image/png": "[encoded data removed]"
          },
          "metadata": {
            "needs_background": "light"
          }
        },
        {
          "output_type": "display_data",
          "data": {
            "text/plain": [
              "<Figure size 432x288 with 1 Axes>"
            ],
            "image/png": "[encoded data removed]"
          },
          "metadata": {
            "needs_background": "light"
          }
        }
      ]
    },
    {
      "cell_type": "markdown",
      "source": [
        "##MODEL EVALUATION"
      ],
      "metadata": {
        "id": "kgDnZW7IV88H"
      }
    },
    {
      "cell_type": "code",
      "execution_count": 31,
      "metadata": {
        "colab": {
          "base_uri": "https://localhost:8080/"
        },
        "id": "GMABjqXHSYH0",
        "outputId": "adbad80d-f37f-48e3-a5e0-98ec7aad1c2f"
      },
      "outputs": [
        {
          "output_type": "stream",
          "name": "stderr",
          "text": [
            "/usr/local/lib/python3.7/dist-packages/keras_preprocessing/image/image_data_generator.py:720: UserWarning: This ImageDataGenerator specifies `featurewise_center`, but it hasn't been fit on any training data. Fit it first by calling `.fit(numpy_data)`.\n",
            "  warnings.warn('This ImageDataGenerator specifies '\n",
            "/usr/local/lib/python3.7/dist-packages/keras_preprocessing/image/image_data_generator.py:739: UserWarning: This ImageDataGenerator specifies `zca_whitening`, but it hasn't been fit on any training data. Fit it first by calling `.fit(numpy_data)`.\n",
            "  warnings.warn('This ImageDataGenerator specifies '\n"
          ]
        },
        {
          "output_type": "stream",
          "name": "stdout",
          "text": [
            "1176\n"
          ]
        }
      ],
      "source": [
        "pred_probs = model_res.predict(test_data)\n",
        "print(len(pred_probs))"
      ]
    },
    {
      "cell_type": "code",
      "execution_count": 32,
      "metadata": {
        "id": "zL8ndqYL5tqd",
        "colab": {
          "base_uri": "https://localhost:8080/"
        },
        "outputId": "351e367e-8c2c-47f2-d29a-17245b79f339"
      },
      "outputs": [
        {
          "output_type": "execute_result",
          "data": {
            "text/plain": [
              "array([ 0,  4,  5,  0,  0,  0,  0,  0,  0, 13])"
            ]
          },
          "metadata": {},
          "execution_count": 32
        }
      ],
      "source": [
        "pred_classes = pred_probs.argmax(axis=1)\n",
        "pred_classes[:10]"
      ]
    },
    {
      "cell_type": "code",
      "source": [
        "pred_classes = pred_probs.argmax(axis=1)\n",
        "pred_classes[:10]"
      ],
      "metadata": {
        "colab": {
          "base_uri": "https://localhost:8080/"
        },
        "id": "CT_1Cq_32fml",
        "outputId": "7228eb03-fb17-4356-ef28-b58a19f68001"
      },
      "execution_count": 33,
      "outputs": [
        {
          "output_type": "execute_result",
          "data": {
            "text/plain": [
              "array([ 0,  4,  5,  0,  0,  0,  0,  0,  0, 13])"
            ]
          },
          "metadata": {},
          "execution_count": 33
        }
      ]
    },
    {
      "cell_type": "code",
      "source": [
        "y_true = []\n",
        "for img,label in test_data_true.unbatch():\n",
        "  y_true.append(label.numpy().argmax())\n",
        "\n",
        "y_true[:10]"
      ],
      "metadata": {
        "colab": {
          "base_uri": "https://localhost:8080/"
        },
        "id": "GuPs74X52ztE",
        "outputId": "0292f744-ef81-4194-ac48-db39ea6db15a"
      },
      "execution_count": 34,
      "outputs": [
        {
          "output_type": "execute_result",
          "data": {
            "text/plain": [
              "[0, 0, 0, 0, 0, 0, 0, 0, 0, 0]"
            ]
          },
          "metadata": {},
          "execution_count": 34
        }
      ]
    },
    {
      "cell_type": "code",
      "source": [
        "import itertools\n",
        "import matplotlib.pyplot as plt\n",
        "import numpy as np\n",
        "from sklearn.metrics import confusion_matrix\n",
        "\n",
        "# Our function needs a different name to sklearn's plot_confusion_matrix\n",
        "def make_confusion_matrix(y_true, y_pred, classes=None, figsize=(10, 10), text_size=15, norm=False, savefig=False): \n",
        "  \"\"\"Makes a labelled confusion matrix comparing predictions and ground truth labels.\n",
        "\n",
        "  If classes is passed, confusion matrix will be labelled, if not, integer class values\n",
        "  will be used.\n",
        "\n",
        "  Args:\n",
        "    y_true: Array of truth labels (must be same shape as y_pred).\n",
        "    y_pred: Array of predicted labels (must be same shape as y_true).\n",
        "    classes: Array of class labels (e.g. string form). If `None`, integer labels are used.\n",
        "    figsize: Size of output figure (default=(10, 10)).\n",
        "    text_size: Size of output figure text (default=15).\n",
        "    norm: normalize values or not (default=False).\n",
        "    savefig: save confusion matrix to file (default=False).\n",
        "  \n",
        "  Returns:\n",
        "    A labelled confusion matrix plot comparing y_true and y_pred.\n",
        "\n",
        "  Example usage:\n",
        "    make_confusion_matrix(y_true=test_labels, # ground truth test labels\n",
        "                          y_pred=y_preds, # predicted labels\n",
        "                          classes=class_names, # array of class label names\n",
        "                          figsize=(15, 15),\n",
        "                          text_size=10)\n",
        "  \"\"\"  \n",
        "  # Create the confustion matrix\n",
        "  cm = confusion_matrix(y_true, y_pred)\n",
        "  cm_norm = cm.astype(\"float\") / cm.sum(axis=1)[:, np.newaxis] # normalize it\n",
        "  n_classes = cm.shape[0] # find the number of classes we're dealing with\n",
        "\n",
        "  # Plot the figure and make it pretty\n",
        "  fig, ax = plt.subplots(figsize=figsize)\n",
        "  cax = ax.matshow(cm, cmap=plt.cm.Blues) # colors will represent how 'correct' a class is, darker == better\n",
        "  fig.colorbar(cax)\n",
        "\n",
        "  # Are there a list of classes?\n",
        "  if classes:\n",
        "    labels = classes\n",
        "  else:\n",
        "    labels = np.arange(cm.shape[0])\n",
        "  \n",
        "  # Label the axes\n",
        "  ax.set(title=\"Confusion Matrix\",\n",
        "         xlabel=\"Predicted label\",\n",
        "         ylabel=\"True label\",\n",
        "         xticks=np.arange(n_classes), # create enough axis slots for each class\n",
        "         yticks=np.arange(n_classes), \n",
        "         xticklabels=labels, # axes will labeled with class names (if they exist) or ints\n",
        "         yticklabels=labels)\n",
        "  \n",
        "  # Make x-axis labels appear on bottom\n",
        "  ax.xaxis.set_label_position(\"bottom\")\n",
        "  ax.xaxis.tick_bottom()\n",
        "\n",
        "  ### Added: Rotate xticks for readability & increase font size (required due to such a large confusion matrix)\n",
        "  plt.xticks(rotation=70, fontsize=text_size)\n",
        "  plt.yticks(fontsize=text_size)\n",
        "\n",
        "  # Set the threshold for different colors\n",
        "  threshold = (cm.max() + cm.min()) / 2.\n",
        "\n",
        "  # Plot the text on each cell\n",
        "  for i, j in itertools.product(range(cm.shape[0]), range(cm.shape[1])):\n",
        "    if norm:\n",
        "      plt.text(j, i, f\"{cm[i, j]} ({cm_norm[i, j]*100:.1f}%)\",\n",
        "              horizontalalignment=\"center\",\n",
        "              color=\"white\" if cm[i, j] > threshold else \"black\",\n",
        "              size=text_size)\n",
        "    else:\n",
        "      plt.text(j, i, f\"{cm[i, j]}\",\n",
        "              horizontalalignment=\"center\",\n",
        "              color=\"white\" if cm[i, j] > threshold else \"black\",\n",
        "              size=text_size)\n",
        "\n",
        "  # Save the figure to the current working directory\n",
        "  if savefig:\n",
        "    fig.savefig(\"confusion_matrix.png\")"
      ],
      "metadata": {
        "id": "1H9kmXYL2ySd"
      },
      "execution_count": 35,
      "outputs": []
    },
    {
      "cell_type": "code",
      "source": [
        "make_confusion_matrix(y_true,pred_classes,classes = labels)"
      ],
      "metadata": {
        "colab": {
          "base_uri": "https://localhost:8080/",
          "height": 683
        },
        "id": "8USemBmU23mT",
        "outputId": "18519bb3-24e8-43be-b680-da4ed4c8d16c"
      },
      "execution_count": 36,
      "outputs": [
        {
          "output_type": "display_data",
          "data": {
            "text/plain": [
              "<Figure size 720x720 with 2 Axes>"
            ],
            "image/png": "[encoded data removed]"
          },
          "metadata": {
            "needs_background": "light"
          }
        }
      ]
    },
    {
      "cell_type": "markdown",
      "source": [
        "Model is confused between hugging and sleeping,texting and listening to music"
      ],
      "metadata": {
        "id": "CkkmajeuPaHG"
      }
    },
    {
      "cell_type": "code",
      "source": [
        "from sklearn.metrics import accuracy_score\n",
        "sklearn_accuracy = accuracy_score(y_true, pred_classes)\n",
        "sklearn_accuracy"
      ],
      "metadata": {
        "colab": {
          "base_uri": "https://localhost:8080/"
        },
        "id": "c4LrHsooBseH",
        "outputId": "87865bcc-e27f-40cf-fb38-48b1d5483682"
      },
      "execution_count": 37,
      "outputs": [
        {
          "output_type": "execute_result",
          "data": {
            "text/plain": [
              "0.8571428571428571"
            ]
          },
          "metadata": {},
          "execution_count": 37
        }
      ]
    },
    {
      "cell_type": "code",
      "source": [
        "from sklearn.metrics import classification_report\n",
        "print(classification_report(y_true, pred_classes))"
      ],
      "metadata": {
        "colab": {
          "base_uri": "https://localhost:8080/"
        },
        "id": "muIo3Tc-BsnW",
        "outputId": "d2156fb3-28f1-4dae-ee31-d328c2015463"
      },
      "execution_count": 38,
      "outputs": [
        {
          "output_type": "stream",
          "name": "stdout",
          "text": [
            "              precision    recall  f1-score   support\n",
            "\n",
            "           0       0.81      0.77      0.79        84\n",
            "           1       0.93      0.83      0.88        84\n",
            "           2       1.00      0.98      0.99        84\n",
            "           3       0.87      0.92      0.89        84\n",
            "           4       0.82      0.76      0.79        84\n",
            "           5       0.93      0.95      0.94        84\n",
            "           6       0.93      0.85      0.89        84\n",
            "           7       0.93      0.85      0.89        84\n",
            "           8       0.83      0.86      0.84        84\n",
            "           9       0.70      0.86      0.77        84\n",
            "          10       0.85      0.87      0.86        84\n",
            "          11       0.89      0.92      0.90        84\n",
            "          12       0.80      0.70      0.75        84\n",
            "          13       0.77      0.89      0.83        84\n",
            "\n",
            "    accuracy                           0.86      1176\n",
            "   macro avg       0.86      0.86      0.86      1176\n",
            "weighted avg       0.86      0.86      0.86      1176\n",
            "\n"
          ]
        }
      ]
    },
    {
      "cell_type": "code",
      "source": [
        "classification_report_dict = classification_report(y_true, pred_classes, output_dict=True)\n",
        "classification_report_dict"
      ],
      "metadata": {
        "colab": {
          "base_uri": "https://localhost:8080/"
        },
        "id": "d76wSlOMBsqU",
        "outputId": "59491a72-2ae1-4e45-f0f6-6657f0f6b049"
      },
      "execution_count": 39,
      "outputs": [
        {
          "output_type": "execute_result",
          "data": {
            "text/plain": [
              "{'0': {'f1-score': 0.7926829268292684,\n",
              "  'precision': 0.8125,\n",
              "  'recall': 0.7738095238095238,\n",
              "  'support': 84},\n",
              " '1': {'f1-score': 0.8805031446540881,\n",
              "  'precision': 0.9333333333333333,\n",
              "  'recall': 0.8333333333333334,\n",
              "  'support': 84},\n",
              " '10': {'f1-score': 0.8588235294117648,\n",
              "  'precision': 0.8488372093023255,\n",
              "  'recall': 0.8690476190476191,\n",
              "  'support': 84},\n",
              " '11': {'f1-score': 0.9005847953216374,\n",
              "  'precision': 0.8850574712643678,\n",
              "  'recall': 0.9166666666666666,\n",
              "  'support': 84},\n",
              " '12': {'f1-score': 0.7468354430379748,\n",
              "  'precision': 0.7972972972972973,\n",
              "  'recall': 0.7023809523809523,\n",
              "  'support': 84},\n",
              " '13': {'f1-score': 0.8287292817679559,\n",
              "  'precision': 0.7731958762886598,\n",
              "  'recall': 0.8928571428571429,\n",
              "  'support': 84},\n",
              " '2': {'f1-score': 0.9879518072289156,\n",
              "  'precision': 1.0,\n",
              "  'recall': 0.9761904761904762,\n",
              "  'support': 84},\n",
              " '3': {'f1-score': 0.8901734104046243,\n",
              "  'precision': 0.8651685393258427,\n",
              "  'recall': 0.9166666666666666,\n",
              "  'support': 84},\n",
              " '4': {'f1-score': 0.7901234567901233,\n",
              "  'precision': 0.8205128205128205,\n",
              "  'recall': 0.7619047619047619,\n",
              "  'support': 84},\n",
              " '5': {'f1-score': 0.9411764705882352,\n",
              "  'precision': 0.9302325581395349,\n",
              "  'recall': 0.9523809523809523,\n",
              "  'support': 84},\n",
              " '6': {'f1-score': 0.8875000000000001,\n",
              "  'precision': 0.9342105263157895,\n",
              "  'recall': 0.8452380952380952,\n",
              "  'support': 84},\n",
              " '7': {'f1-score': 0.8875000000000001,\n",
              "  'precision': 0.9342105263157895,\n",
              "  'recall': 0.8452380952380952,\n",
              "  'support': 84},\n",
              " '8': {'f1-score': 0.8421052631578947,\n",
              "  'precision': 0.8275862068965517,\n",
              "  'recall': 0.8571428571428571,\n",
              "  'support': 84},\n",
              " '9': {'f1-score': 0.7700534759358288,\n",
              "  'precision': 0.6990291262135923,\n",
              "  'recall': 0.8571428571428571,\n",
              "  'support': 84},\n",
              " 'accuracy': 0.8571428571428571,\n",
              " 'macro avg': {'f1-score': 0.857481643223451,\n",
              "  'precision': 0.8615122493718504,\n",
              "  'recall': 0.857142857142857,\n",
              "  'support': 1176},\n",
              " 'weighted avg': {'f1-score': 0.8574816432234509,\n",
              "  'precision': 0.8615122493718503,\n",
              "  'recall': 0.8571428571428571,\n",
              "  'support': 1176}}"
            ]
          },
          "metadata": {},
          "execution_count": 39
        }
      ]
    },
    {
      "cell_type": "code",
      "source": [
        "class_f1_scores = {}\n",
        "for k, v in classification_report_dict.items():\n",
        "  if k == \"accuracy\": \n",
        "    break\n",
        "  else:\n",
        "    class_f1_scores[labels[int(k)]] = v[\"f1-score\"]\n",
        "\n",
        "class_f1_scores"
      ],
      "metadata": {
        "colab": {
          "base_uri": "https://localhost:8080/"
        },
        "id": "hdnNSxoCC_SU",
        "outputId": "5ef3c0dd-ca00-4afe-845c-7e2ea4a565ae"
      },
      "execution_count": 40,
      "outputs": [
        {
          "output_type": "execute_result",
          "data": {
            "text/plain": [
              "{'calling': 0.7926829268292684,\n",
              " 'clapping': 0.8805031446540881,\n",
              " 'cycling': 0.9879518072289156,\n",
              " 'dancing': 0.8901734104046243,\n",
              " 'drinking': 0.7901234567901233,\n",
              " 'eating': 0.9411764705882352,\n",
              " 'fighting': 0.8875000000000001,\n",
              " 'hugging': 0.8875000000000001,\n",
              " 'laughing': 0.8421052631578947,\n",
              " 'listening_to_music': 0.7700534759358288,\n",
              " 'running': 0.8588235294117648,\n",
              " 'sleeping': 0.9005847953216374,\n",
              " 'texting': 0.7468354430379748,\n",
              " 'using_laptop': 0.8287292817679559}"
            ]
          },
          "metadata": {},
          "execution_count": 40
        }
      ]
    },
    {
      "cell_type": "code",
      "source": [
        "import pandas as pd\n",
        "f1_scores = pd.DataFrame({\"class_name\": list(class_f1_scores.keys()),\n",
        "                          \"f1-score\": list(class_f1_scores.values())}).sort_values(\"f1-score\", ascending=False)\n",
        "f1_scores"
      ],
      "metadata": {
        "colab": {
          "base_uri": "https://localhost:8080/",
          "height": 488
        },
        "id": "xEanc5oKC_gC",
        "outputId": "91c537e1-28ba-42da-8abc-49a83db4f29e"
      },
      "execution_count": 41,
      "outputs": [
        {
          "output_type": "execute_result",
          "data": {
            "text/plain": [
              "            class_name  f1-score\n",
              "2              cycling  0.987952\n",
              "5               eating  0.941176\n",
              "11            sleeping  0.900585\n",
              "3              dancing  0.890173\n",
              "6             fighting  0.887500\n",
              "7              hugging  0.887500\n",
              "1             clapping  0.880503\n",
              "10             running  0.858824\n",
              "8             laughing  0.842105\n",
              "13        using_laptop  0.828729\n",
              "0              calling  0.792683\n",
              "4             drinking  0.790123\n",
              "9   listening_to_music  0.770053\n",
              "12             texting  0.746835"
            ],
            "text/html": [
              "\n",
              "  <div id=\"df-da33b841-68f2-4b94-bd0b-06b250beaed2\">\n",
              "    <div class=\"colab-df-container\">\n",
              "      <div>\n",
              "<style scoped>\n",
              "    .dataframe tbody tr th:only-of-type {\n",
              "        vertical-align: middle;\n",
              "    }\n",
              "\n",
              "    .dataframe tbody tr th {\n",
              "        vertical-align: top;\n",
              "    }\n",
              "\n",
              "    .dataframe thead th {\n",
              "        text-align: right;\n",
              "    }\n",
              "</style>\n",
              "<table border=\"1\" class=\"dataframe\">\n",
              "  <thead>\n",
              "    <tr style=\"text-align: right;\">\n",
              "      <th></th>\n",
              "      <th>class_name</th>\n",
              "      <th>f1-score</th>\n",
              "    </tr>\n",
              "  </thead>\n",
              "  <tbody>\n",
              "    <tr>\n",
              "      <th>2</th>\n",
              "      <td>cycling</td>\n",
              "      <td>0.987952</td>\n",
              "    </tr>\n",
              "    <tr>\n",
              "      <th>5</th>\n",
              "      <td>eating</td>\n",
              "      <td>0.941176</td>\n",
              "    </tr>\n",
              "    <tr>\n",
              "      <th>11</th>\n",
              "      <td>sleeping</td>\n",
              "      <td>0.900585</td>\n",
              "    </tr>\n",
              "    <tr>\n",
              "      <th>3</th>\n",
              "      <td>dancing</td>\n",
              "      <td>0.890173</td>\n",
              "    </tr>\n",
              "    <tr>\n",
              "      <th>6</th>\n",
              "      <td>fighting</td>\n",
              "      <td>0.887500</td>\n",
              "    </tr>\n",
              "    <tr>\n",
              "      <th>7</th>\n",
              "      <td>hugging</td>\n",
              "      <td>0.887500</td>\n",
              "    </tr>\n",
              "    <tr>\n",
              "      <th>1</th>\n",
              "      <td>clapping</td>\n",
              "      <td>0.880503</td>\n",
              "    </tr>\n",
              "    <tr>\n",
              "      <th>10</th>\n",
              "      <td>running</td>\n",
              "      <td>0.858824</td>\n",
              "    </tr>\n",
              "    <tr>\n",
              "      <th>8</th>\n",
              "      <td>laughing</td>\n",
              "      <td>0.842105</td>\n",
              "    </tr>\n",
              "    <tr>\n",
              "      <th>13</th>\n",
              "      <td>using_laptop</td>\n",
              "      <td>0.828729</td>\n",
              "    </tr>\n",
              "    <tr>\n",
              "      <th>0</th>\n",
              "      <td>calling</td>\n",
              "      <td>0.792683</td>\n",
              "    </tr>\n",
              "    <tr>\n",
              "      <th>4</th>\n",
              "      <td>drinking</td>\n",
              "      <td>0.790123</td>\n",
              "    </tr>\n",
              "    <tr>\n",
              "      <th>9</th>\n",
              "      <td>listening_to_music</td>\n",
              "      <td>0.770053</td>\n",
              "    </tr>\n",
              "    <tr>\n",
              "      <th>12</th>\n",
              "      <td>texting</td>\n",
              "      <td>0.746835</td>\n",
              "    </tr>\n",
              "  </tbody>\n",
              "</table>\n",
              "</div>\n",
              "      <button class=\"colab-df-convert\" onclick=\"convertToInteractive('df-da33b841-68f2-4b94-bd0b-06b250beaed2')\"\n",
              "              title=\"Convert this dataframe to an interactive table.\"\n",
              "              style=\"display:none;\">\n",
              "        \n",
              "  <svg xmlns=\"http://www.w3.org/2000/svg\" height=\"24px\"viewBox=\"0 0 24 24\"\n",
              "       width=\"24px\">\n",
              "    <path d=\"M0 0h24v24H0V0z\" fill=\"none\"/>\n",
              "    <path d=\"M18.56 5.44l.94 2.06.94-2.06 2.06-.94-2.06-.94-.94-2.06-.94 2.06-2.06.94zm-11 1L8.5 8.5l.94-2.06 2.06-.94-2.06-.94L8.5 2.5l-.94 2.06-2.06.94zm10 10l.94 2.06.94-2.06 2.06-.94-2.06-.94-.94-2.06-.94 2.06-2.06.94z\"/><path d=\"M17.41 7.96l-1.37-1.37c-.4-.4-.92-.59-1.43-.59-.52 0-1.04.2-1.43.59L10.3 9.45l-7.72 7.72c-.78.78-.78 2.05 0 2.83L4 21.41c.39.39.9.59 1.41.59.51 0 1.02-.2 1.41-.59l7.78-7.78 2.81-2.81c.8-.78.8-2.07 0-2.86zM5.41 20L4 18.59l7.72-7.72 1.47 1.35L5.41 20z\"/>\n",
              "  </svg>\n",
              "      </button>\n",
              "      \n",
              "  <style>\n",
              "    .colab-df-container {\n",
              "      display:flex;\n",
              "      flex-wrap:wrap;\n",
              "      gap: 12px;\n",
              "    }\n",
              "\n",
              "    .colab-df-convert {\n",
              "      background-color: #E8F0FE;\n",
              "      border: none;\n",
              "      border-radius: 50%;\n",
              "      cursor: pointer;\n",
              "      display: none;\n",
              "      fill: #1967D2;\n",
              "      height: 32px;\n",
              "      padding: 0 0 0 0;\n",
              "      width: 32px;\n",
              "    }\n",
              "\n",
              "    .colab-df-convert:hover {\n",
              "      background-color: #E2EBFA;\n",
              "      box-shadow: 0px 1px 2px rgba(60, 64, 67, 0.3), 0px 1px 3px 1px rgba(60, 64, 67, 0.15);\n",
              "      fill: #174EA6;\n",
              "    }\n",
              "\n",
              "    [theme=dark] .colab-df-convert {\n",
              "      background-color: #3B4455;\n",
              "      fill: #D2E3FC;\n",
              "    }\n",
              "\n",
              "    [theme=dark] .colab-df-convert:hover {\n",
              "      background-color: #434B5C;\n",
              "      box-shadow: 0px 1px 3px 1px rgba(0, 0, 0, 0.15);\n",
              "      filter: drop-shadow(0px 1px 2px rgba(0, 0, 0, 0.3));\n",
              "      fill: #FFFFFF;\n",
              "    }\n",
              "  </style>\n",
              "\n",
              "      <script>\n",
              "        const buttonEl =\n",
              "          document.querySelector('#df-da33b841-68f2-4b94-bd0b-06b250beaed2 button.colab-df-convert');\n",
              "        buttonEl.style.display =\n",
              "          google.colab.kernel.accessAllowed ? 'block' : 'none';\n",
              "\n",
              "        async function convertToInteractive(key) {\n",
              "          const element = document.querySelector('#df-da33b841-68f2-4b94-bd0b-06b250beaed2');\n",
              "          const dataTable =\n",
              "            await google.colab.kernel.invokeFunction('convertToInteractive',\n",
              "                                                     [key], {});\n",
              "          if (!dataTable) return;\n",
              "\n",
              "          const docLinkHtml = 'Like what you see? Visit the ' +\n",
              "            '<a target=\"_blank\" href=https://colab.research.google.com/notebooks/data_table.ipynb>data table notebook</a>'\n",
              "            + ' to learn more about interactive tables.';\n",
              "          element.innerHTML = '';\n",
              "          dataTable['output_type'] = 'display_data';\n",
              "          await google.colab.output.renderOutput(dataTable, element);\n",
              "          const docLink = document.createElement('div');\n",
              "          docLink.innerHTML = docLinkHtml;\n",
              "          element.appendChild(docLink);\n",
              "        }\n",
              "      </script>\n",
              "    </div>\n",
              "  </div>\n",
              "  "
            ]
          },
          "metadata": {},
          "execution_count": 41
        }
      ]
    },
    {
      "cell_type": "code",
      "source": [
        "import matplotlib.pyplot as plt\n",
        "\n",
        "fig, ax = plt.subplots(figsize=(12, 25))\n",
        "scores = ax.barh(range(len(f1_scores)), f1_scores[\"f1-score\"].values)\n",
        "ax.set_yticks(range(len(f1_scores)))\n",
        "ax.set_yticklabels(list(f1_scores[\"class_name\"]))\n",
        "ax.set_xlabel(\"f1-score\")\n",
        "ax.set_title(\"F1-Scores for Different Classes\")\n",
        "ax.invert_yaxis(); # reverse the order\n",
        "\n",
        "def autolabel(rects): # Modified version of: https://matplotlib.org/examples/api/barchart_demo.html\n",
        "  \"\"\"\n",
        "  Attach a text label above each bar displaying its height (it's value).\n",
        "  \"\"\"\n",
        "  for rect in rects:\n",
        "    width = rect.get_width()\n",
        "    ax.text(1.03*width, rect.get_y() + rect.get_height()/1.5,\n",
        "            f\"{width:.2f}\",\n",
        "            ha='center', va='bottom')\n",
        "\n",
        "autolabel(scores)"
      ],
      "metadata": {
        "colab": {
          "base_uri": "https://localhost:8080/",
          "height": 1000
        },
        "id": "yPEgOyWGC_kP",
        "outputId": "7d8d2f1c-1ef0-4ba5-92f2-cfbc9171e21b"
      },
      "execution_count": 42,
      "outputs": [
        {
          "output_type": "display_data",
          "data": {
            "text/plain": [
              "<Figure size 864x1800 with 1 Axes>"
            ],
            "image/png": "[encoded data removed]"
          },
          "metadata": {
            "needs_background": "light"
          }
        }
      ]
    },
    {
      "cell_type": "markdown",
      "source": [
        "##TENSORBOARD VISUALIZATION"
      ],
      "metadata": {
        "id": "5dInPrxSWB2G"
      }
    },
    {
      "cell_type": "code",
      "source": [
        "!tensorboard dev upload --logdir ./HAR_TRANSFER_LEARNING_14/ \\\n",
        "  --name \"HAR_RESNET152V2\" \\\n",
        "  --description \"Comparing feature extractor and fine tuning model of ResNet152V2 on HAR Still Image Classfication\" \\\n",
        "  --one_shot"
      ],
      "metadata": {
        "id": "7yECA3l6Gar7"
      },
      "execution_count": null,
      "outputs": []
    },
    {
      "cell_type": "markdown",
      "source": [
        "TENSORBOARD LINK : \n",
        "\n",
        "https://tensorboard.dev/experiment/mhdtYWpQQFmuKhMY5F46tA/"
      ],
      "metadata": {
        "id": "SPVEmFmQUORq"
      }
    },
    {
      "cell_type": "markdown",
      "source": [
        "\n",
        "\n",
        "---\n",
        "\n",
        "                                                   CONCLUSION\n",
        "\n",
        "\n",
        "---\n",
        "\n"
      ],
      "metadata": {
        "id": "nEm1dwYIUr09"
      }
    }
  ]
}