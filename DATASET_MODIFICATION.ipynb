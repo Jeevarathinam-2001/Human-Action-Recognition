{
 "cells": [
  {
   "cell_type": "code",
   "execution_count": 1,
   "id": "3ac63cbb",
   "metadata": {},
   "outputs": [],
   "source": [
    "import numpy as np\n",
    "import pandas as pd\n",
    "import shutil"
   ]
  },
  {
   "cell_type": "code",
   "execution_count": null,
   "id": "6fa2604b",
   "metadata": {},
   "outputs": [],
   "source": [
    "data = pd.read_csv(\"training_set.csv\")\n",
    "data.head(10)"
   ]
  },
  {
   "cell_type": "code",
   "execution_count": null,
   "id": "964fa045",
   "metadata": {},
   "outputs": [],
   "source": [
    "labels = data[\"label\"].unique()\n",
    "labels"
   ]
  },
  {
   "cell_type": "code",
   "execution_count": null,
   "id": "6e24d81d",
   "metadata": {},
   "outputs": [],
   "source": [
    "import os\n",
    "source = 'C://Users/Hai/Desktop/SEM-7/ECE3009/PROJECT/Human Action Recognition/train/'\n",
    "destination = 'C://Users/Hai/Desktop/SEM-7/ECE3009/PROJECT/Human Action Recognition/train/'\n",
    "\n",
    "for index in data.index:\n",
    "    shutil.move(source + data[\"filename\"][index],destination + data[\"label\"][index] + \"/\" + data[\"filename\"][index])\n"
   ]
  },
  {
   "cell_type": "code",
   "execution_count": null,
   "id": "634a9657",
   "metadata": {},
   "outputs": [],
   "source": [
    "pip install split-folders"
   ]
  },
  {
   "cell_type": "code",
   "execution_count": 6,
   "id": "957e9337",
   "metadata": {},
   "outputs": [
    {
     "name": "stderr",
     "output_type": "stream",
     "text": [
      "Copying files: 12600 files [02:34, 81.49 files/s] \n"
     ]
    }
   ],
   "source": [
    "loc = \"C://Users/Hai/Desktop/SEM-7/ECE3009/PROJECT/Human Action Recognition/Data/\"\n",
    "dest = \"C://Users/Hai/Desktop/SEM-7/ECE3009/PROJECT/Human Action Recognition/output/\"\n",
    "import splitfolders\n",
    "\n",
    "splitfolders.ratio(loc,output = dest,seed = 42,ratio = (.81,.09,.1))"
   ]
  },
  {
   "cell_type": "code",
   "execution_count": null,
   "id": "7bd6fb65",
   "metadata": {},
   "outputs": [],
   "source": []
  }
 ],
 "metadata": {
  "kernelspec": {
   "display_name": "Python 3 (ipykernel)",
   "language": "python",
   "name": "python3"
  },
  "language_info": {
   "codemirror_mode": {
    "name": "ipython",
    "version": 3
   },
   "file_extension": ".py",
   "mimetype": "text/x-python",
   "name": "python",
   "nbconvert_exporter": "python",
   "pygments_lexer": "ipython3",
   "version": "3.9.7"
  }
 },
 "nbformat": 4,
 "nbformat_minor": 5
}
